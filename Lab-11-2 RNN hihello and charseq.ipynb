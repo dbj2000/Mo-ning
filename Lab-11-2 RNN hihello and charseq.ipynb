{
  "nbformat": 4,
  "nbformat_minor": 0,
  "metadata": {
    "colab": {
      "name": "Lab-11-2 RNN hihello and charseq.ipynb",
      "provenance": [],
      "collapsed_sections": []
    },
    "kernelspec": {
      "name": "python3",
      "display_name": "Python 3"
    }
  },
  "cells": [
    {
      "cell_type": "markdown",
      "metadata": {
        "id": "UhdiRRngAHj6",
        "colab_type": "text"
      },
      "source": [
        "# **Lab-11-2 RNN hihello and charseq**\n",
        "\n",
        "## **'Hihello' problem**\n",
        "\n",
        "\n",
        "*   문제 : hihello라는 문자열을 예측하는 모델을 만드는 것\n",
        "*   목적 : 다음에 오는 character를 예측해야 함 (h가 들어오면 i, i가 들어오면 h를 예측해야 함)\n",
        "\n",
        "## **One-hot Encoding**\n",
        "\n",
        "Characters를 컴퓨터에서 표현하는 방식을 Embedding이라 하고 대표적으로는 One-hot Encoding이 있다.\n",
        "\n",
        "![](https://img1.daumcdn.net/thumb/R1280x0/?scode=mtistory2&fname=https%3A%2F%2Fk.kakaocdn.net%2Fdn%2Fb5Kwpc%2FbtqC2s6tKcO%2FAImC1hFc3ryIcyWN0kRmA0%2Fimg.png)\n",
        "\n",
        "\n",
        "\n",
        "*   각 단어에추가 index를 부여하는 방식 \n",
        "*   h의 경우 [1, 0, 0, 0, 0] 으로 자기 index의 값만 1을 가지는 방식 \n",
        "\n",
        "## **Cross Entropy Loss**\n",
        "*   Categorical Output을 예측하는데 사용하는 loss \n",
        "\n",
        "    cirterion = torch.nn.CrossEntropyLoss()  \n",
        "    criterion(모델의 Output, 실제 값) \n",
        "\n",
        "![](https://img1.daumcdn.net/thumb/R1280x0/?scode=mtistory2&fname=https%3A%2F%2Fk.kakaocdn.net%2Fdn%2FcE1uEN%2FbtqC3OA2y0B%2FZA3SHC7Be7KmEtsGkFOVk0%2Fimg.png)\n",
        "\n",
        "\n",
        "\n",
        "\n",
        "\n",
        "\n",
        "\n"
      ]
    },
    {
      "cell_type": "markdown",
      "metadata": {
        "id": "GgSVcNEX44Br",
        "colab_type": "text"
      },
      "source": [
        "\n",
        "## **Code Run - 'hihello'**"
      ]
    },
    {
      "cell_type": "code",
      "metadata": {
        "id": "4fcmHN3mtVbX",
        "colab_type": "code",
        "colab": {}
      },
      "source": [
        "import torch\n",
        "import torch.optim as optim\n",
        "import numpy as np"
      ],
      "execution_count": 0,
      "outputs": []
    },
    {
      "cell_type": "code",
      "metadata": {
        "id": "ok3rLqEt273e",
        "colab_type": "code",
        "colab": {
          "base_uri": "https://localhost:8080/",
          "height": 36
        },
        "outputId": "cae3bb26-cdcc-4bb3-be9a-0e3f8333f27f"
      },
      "source": [
        "# Random seed to make results deterministic and reproducible\n",
        "torch.manual_seed(0)"
      ],
      "execution_count": 2,
      "outputs": [
        {
          "output_type": "execute_result",
          "data": {
            "text/plain": [
              "<torch._C.Generator at 0x7f046ca25030>"
            ]
          },
          "metadata": {
            "tags": []
          },
          "execution_count": 2
        }
      ]
    },
    {
      "cell_type": "code",
      "metadata": {
        "id": "5twDBJI03Dx-",
        "colab_type": "code",
        "colab": {}
      },
      "source": [
        "#declare dictionary\n",
        "char_set = ['h', 'i', 'e', 'l', 'o']"
      ],
      "execution_count": 0,
      "outputs": []
    },
    {
      "cell_type": "code",
      "metadata": {
        "id": "hI6v3s7S3JV7",
        "colab_type": "code",
        "colab": {}
      },
      "source": [
        "# hyper parameters\n",
        "input_size = len(char_set)\n",
        "hidden_size = len(char_set) # 편의상 input과 맞춤\n",
        "learning_rate = 0.1"
      ],
      "execution_count": 0,
      "outputs": []
    },
    {
      "cell_type": "markdown",
      "metadata": {
        "id": "J5dELTDI47OJ",
        "colab_type": "text"
      },
      "source": [
        "*  hidden_size는 임의로 설정 \n",
        "\n",
        "\n"
      ]
    },
    {
      "cell_type": "code",
      "metadata": {
        "id": "vzZhUM213cq1",
        "colab_type": "code",
        "colab": {}
      },
      "source": [
        "# data setting\n",
        "x_data = [[0, 1, 0, 2, 3, 3]] # hihell\n",
        "x_one_hot = [[[1, 0, 0, 0, 0],\n",
        "              [0, 1, 0, 0, 0],\n",
        "              [1, 0, 0, 0, 0],\n",
        "              [0, 0, 1, 0, 0],\n",
        "              [0, 0, 0, 1, 0],\n",
        "              [0, 0, 0, 1, 0]]]\n",
        "y_data = [[1, 0, 2, 3, 3, 4]] # ihello"
      ],
      "execution_count": 0,
      "outputs": []
    },
    {
      "cell_type": "code",
      "metadata": {
        "id": "-ynFYnai4pw1",
        "colab_type": "code",
        "colab": {}
      },
      "source": [
        "# transform as torch tensor variable\n",
        "X = torch.FloatTensor(x_one_hot)\n",
        "Y = torch.LongTensor(y_data)"
      ],
      "execution_count": 0,
      "outputs": []
    },
    {
      "cell_type": "markdown",
      "metadata": {
        "id": "YPy0RLaR5KVk",
        "colab_type": "text"
      },
      "source": [
        "\n",
        "\n",
        "*   torch.FloatTensor로 one_hot vector를 Floattensor형태로 변환 \n",
        "\n"
      ]
    },
    {
      "cell_type": "code",
      "metadata": {
        "id": "NXOnI3P25CZ1",
        "colab_type": "code",
        "colab": {}
      },
      "source": [
        "# declare RNN\n",
        "rnn = torch.nn.RNN(input_size, hidden_size, batch_first=True) \n",
        "# batch_first guarantess the order of output = (B, S, F)"
      ],
      "execution_count": 0,
      "outputs": []
    },
    {
      "cell_type": "code",
      "metadata": {
        "id": "WUxgLUH25_Kt",
        "colab_type": "code",
        "colab": {}
      },
      "source": [
        "# loss & optimizer setting\n",
        "criterion = torch.nn.CrossEntropyLoss()\n",
        "optimizer = optim.Adam(rnn.parameters(), learning_rate)"
      ],
      "execution_count": 0,
      "outputs": []
    },
    {
      "cell_type": "code",
      "metadata": {
        "id": "q5Mok3jU6IxL",
        "colab_type": "code",
        "colab": {
          "base_uri": "https://localhost:8080/",
          "height": 1000
        },
        "outputId": "dd570c24-490d-42a5-e4d2-9d169681afe2"
      },
      "source": [
        "# start training\n",
        "for i in range(100) :\n",
        "  optimizer.zero_grad()\n",
        "  outputs, _status = rnn(X)\n",
        "  loss = criterion(outputs.view(-1, input_size), Y.view(-1))\n",
        "  loss.backward()\n",
        "  optimizer.step()\n",
        "\n",
        "  result = outputs.data.numpy().argmax(axis=2)\n",
        "  result_str = ''.join([char_set[c] for c in np.squeeze(result)])\n",
        "  print(i, \"loss: \", loss.item(), \"prediction\", result, \"true Y: \", y_data, \"prediction str: \", result_str)"
      ],
      "execution_count": 10,
      "outputs": [
        {
          "output_type": "stream",
          "text": [
            "0 loss:  1.7802648544311523 prediction [[1 1 1 1 1 1]] true Y:  [[1, 0, 2, 3, 3, 4]] prediction str:  iiiiii\n",
            "1 loss:  1.4931949377059937 prediction [[1 4 1 1 4 4]] true Y:  [[1, 0, 2, 3, 3, 4]] prediction str:  ioiioo\n",
            "2 loss:  1.33371102809906 prediction [[1 3 2 3 1 4]] true Y:  [[1, 0, 2, 3, 3, 4]] prediction str:  ilelio\n",
            "3 loss:  1.215294599533081 prediction [[2 3 2 3 3 3]] true Y:  [[1, 0, 2, 3, 3, 4]] prediction str:  elelll\n",
            "4 loss:  1.1131387948989868 prediction [[2 3 2 3 3 3]] true Y:  [[1, 0, 2, 3, 3, 4]] prediction str:  elelll\n",
            "5 loss:  1.0241864919662476 prediction [[2 3 2 3 3 4]] true Y:  [[1, 0, 2, 3, 3, 4]] prediction str:  elello\n",
            "6 loss:  0.9573140740394592 prediction [[2 3 2 3 3 4]] true Y:  [[1, 0, 2, 3, 3, 4]] prediction str:  elello\n",
            "7 loss:  0.910200297832489 prediction [[2 0 2 3 3 4]] true Y:  [[1, 0, 2, 3, 3, 4]] prediction str:  ehello\n",
            "8 loss:  0.8731765151023865 prediction [[1 0 2 3 3 4]] true Y:  [[1, 0, 2, 3, 3, 4]] prediction str:  ihello\n",
            "9 loss:  0.8399617671966553 prediction [[1 0 2 3 3 4]] true Y:  [[1, 0, 2, 3, 3, 4]] prediction str:  ihello\n",
            "10 loss:  0.8088943362236023 prediction [[1 0 2 3 3 4]] true Y:  [[1, 0, 2, 3, 3, 4]] prediction str:  ihello\n",
            "11 loss:  0.7812859416007996 prediction [[1 0 2 3 3 4]] true Y:  [[1, 0, 2, 3, 3, 4]] prediction str:  ihello\n",
            "12 loss:  0.7585341334342957 prediction [[1 3 2 3 3 4]] true Y:  [[1, 0, 2, 3, 3, 4]] prediction str:  ilello\n",
            "13 loss:  0.740128755569458 prediction [[1 3 2 3 3 4]] true Y:  [[1, 0, 2, 3, 3, 4]] prediction str:  ilello\n",
            "14 loss:  0.7243585586547852 prediction [[1 3 2 3 3 4]] true Y:  [[1, 0, 2, 3, 3, 4]] prediction str:  ilello\n",
            "15 loss:  0.7091224193572998 prediction [[1 3 2 3 3 4]] true Y:  [[1, 0, 2, 3, 3, 4]] prediction str:  ilello\n",
            "16 loss:  0.6929273009300232 prediction [[1 3 2 3 3 4]] true Y:  [[1, 0, 2, 3, 3, 4]] prediction str:  ilello\n",
            "17 loss:  0.6821203231811523 prediction [[1 3 2 3 3 4]] true Y:  [[1, 0, 2, 3, 3, 4]] prediction str:  ilello\n",
            "18 loss:  0.6735277771949768 prediction [[1 3 2 3 3 4]] true Y:  [[1, 0, 2, 3, 3, 4]] prediction str:  ilello\n",
            "19 loss:  0.6595445275306702 prediction [[1 3 2 3 3 4]] true Y:  [[1, 0, 2, 3, 3, 4]] prediction str:  ilello\n",
            "20 loss:  0.6534827351570129 prediction [[1 3 2 3 3 4]] true Y:  [[1, 0, 2, 3, 3, 4]] prediction str:  ilello\n",
            "21 loss:  0.6465461254119873 prediction [[1 3 2 3 3 4]] true Y:  [[1, 0, 2, 3, 3, 4]] prediction str:  ilello\n",
            "22 loss:  0.6398186087608337 prediction [[1 3 2 3 3 4]] true Y:  [[1, 0, 2, 3, 3, 4]] prediction str:  ilello\n",
            "23 loss:  0.6381519436836243 prediction [[1 3 2 3 3 4]] true Y:  [[1, 0, 2, 3, 3, 4]] prediction str:  ilello\n",
            "24 loss:  0.6326726078987122 prediction [[1 3 2 3 3 4]] true Y:  [[1, 0, 2, 3, 3, 4]] prediction str:  ilello\n",
            "25 loss:  0.6256729960441589 prediction [[1 3 2 3 3 4]] true Y:  [[1, 0, 2, 3, 3, 4]] prediction str:  ilello\n",
            "26 loss:  0.6215081214904785 prediction [[1 3 2 3 3 4]] true Y:  [[1, 0, 2, 3, 3, 4]] prediction str:  ilello\n",
            "27 loss:  0.6167056560516357 prediction [[1 3 2 3 3 4]] true Y:  [[1, 0, 2, 3, 3, 4]] prediction str:  ilello\n",
            "28 loss:  0.609936535358429 prediction [[1 3 2 3 3 4]] true Y:  [[1, 0, 2, 3, 3, 4]] prediction str:  ilello\n",
            "29 loss:  0.6030198931694031 prediction [[1 3 2 3 3 4]] true Y:  [[1, 0, 2, 3, 3, 4]] prediction str:  ilello\n",
            "30 loss:  0.5992398262023926 prediction [[1 3 2 3 3 4]] true Y:  [[1, 0, 2, 3, 3, 4]] prediction str:  ilello\n",
            "31 loss:  0.5964338779449463 prediction [[1 3 2 3 3 4]] true Y:  [[1, 0, 2, 3, 3, 4]] prediction str:  ilello\n",
            "32 loss:  0.5916647911071777 prediction [[1 3 2 3 3 4]] true Y:  [[1, 0, 2, 3, 3, 4]] prediction str:  ilello\n",
            "33 loss:  0.5881564021110535 prediction [[1 3 2 3 3 4]] true Y:  [[1, 0, 2, 3, 3, 4]] prediction str:  ilello\n",
            "34 loss:  0.585434079170227 prediction [[1 3 2 3 3 4]] true Y:  [[1, 0, 2, 3, 3, 4]] prediction str:  ilello\n",
            "35 loss:  0.581319272518158 prediction [[1 3 2 3 3 4]] true Y:  [[1, 0, 2, 3, 3, 4]] prediction str:  ilello\n",
            "36 loss:  0.5761869549751282 prediction [[1 3 2 3 3 4]] true Y:  [[1, 0, 2, 3, 3, 4]] prediction str:  ilello\n",
            "37 loss:  0.573492169380188 prediction [[1 3 2 3 3 4]] true Y:  [[1, 0, 2, 3, 3, 4]] prediction str:  ilello\n",
            "38 loss:  0.5727558732032776 prediction [[1 3 2 3 3 4]] true Y:  [[1, 0, 2, 3, 3, 4]] prediction str:  ilello\n",
            "39 loss:  0.5682087540626526 prediction [[1 3 2 3 3 4]] true Y:  [[1, 0, 2, 3, 3, 4]] prediction str:  ilello\n",
            "40 loss:  0.5656264424324036 prediction [[1 3 2 3 3 4]] true Y:  [[1, 0, 2, 3, 3, 4]] prediction str:  ilello\n",
            "41 loss:  0.5647334456443787 prediction [[1 3 2 3 3 4]] true Y:  [[1, 0, 2, 3, 3, 4]] prediction str:  ilello\n",
            "42 loss:  0.5629469752311707 prediction [[1 3 2 3 3 4]] true Y:  [[1, 0, 2, 3, 3, 4]] prediction str:  ilello\n",
            "43 loss:  0.5603768229484558 prediction [[1 3 2 3 3 4]] true Y:  [[1, 0, 2, 3, 3, 4]] prediction str:  ilello\n",
            "44 loss:  0.5588172078132629 prediction [[1 3 2 3 3 4]] true Y:  [[1, 0, 2, 3, 3, 4]] prediction str:  ilello\n",
            "45 loss:  0.5584633946418762 prediction [[1 3 2 3 3 4]] true Y:  [[1, 0, 2, 3, 3, 4]] prediction str:  ilello\n",
            "46 loss:  0.5565400123596191 prediction [[1 3 2 3 3 4]] true Y:  [[1, 0, 2, 3, 3, 4]] prediction str:  ilello\n",
            "47 loss:  0.5548030734062195 prediction [[1 3 2 3 3 4]] true Y:  [[1, 0, 2, 3, 3, 4]] prediction str:  ilello\n",
            "48 loss:  0.5542734265327454 prediction [[1 3 2 3 3 4]] true Y:  [[1, 0, 2, 3, 3, 4]] prediction str:  ilello\n",
            "49 loss:  0.5534440279006958 prediction [[1 3 2 3 3 4]] true Y:  [[1, 0, 2, 3, 3, 4]] prediction str:  ilello\n",
            "50 loss:  0.552009642124176 prediction [[1 3 2 3 3 4]] true Y:  [[1, 0, 2, 3, 3, 4]] prediction str:  ilello\n",
            "51 loss:  0.5510937571525574 prediction [[1 3 2 3 3 4]] true Y:  [[1, 0, 2, 3, 3, 4]] prediction str:  ilello\n",
            "52 loss:  0.5506716966629028 prediction [[1 3 2 3 3 4]] true Y:  [[1, 0, 2, 3, 3, 4]] prediction str:  ilello\n",
            "53 loss:  0.5493642687797546 prediction [[1 3 2 3 3 4]] true Y:  [[1, 0, 2, 3, 3, 4]] prediction str:  ilello\n",
            "54 loss:  0.5483370423316956 prediction [[1 3 2 3 3 4]] true Y:  [[1, 0, 2, 3, 3, 4]] prediction str:  ilello\n",
            "55 loss:  0.5478050708770752 prediction [[1 3 2 3 3 4]] true Y:  [[1, 0, 2, 3, 3, 4]] prediction str:  ilello\n",
            "56 loss:  0.5469383597373962 prediction [[1 3 2 3 3 4]] true Y:  [[1, 0, 2, 3, 3, 4]] prediction str:  ilello\n",
            "57 loss:  0.5459227561950684 prediction [[1 3 2 3 3 4]] true Y:  [[1, 0, 2, 3, 3, 4]] prediction str:  ilello\n",
            "58 loss:  0.5454025864601135 prediction [[1 3 2 3 3 4]] true Y:  [[1, 0, 2, 3, 3, 4]] prediction str:  ilello\n",
            "59 loss:  0.5448522567749023 prediction [[1 3 2 3 3 4]] true Y:  [[1, 0, 2, 3, 3, 4]] prediction str:  ilello\n",
            "60 loss:  0.543980598449707 prediction [[1 3 2 3 3 4]] true Y:  [[1, 0, 2, 3, 3, 4]] prediction str:  ilello\n",
            "61 loss:  0.5434584021568298 prediction [[1 3 2 3 3 4]] true Y:  [[1, 0, 2, 3, 3, 4]] prediction str:  ilello\n",
            "62 loss:  0.5429834723472595 prediction [[1 3 2 3 3 4]] true Y:  [[1, 0, 2, 3, 3, 4]] prediction str:  ilello\n",
            "63 loss:  0.5422742962837219 prediction [[1 3 2 3 3 4]] true Y:  [[1, 0, 2, 3, 3, 4]] prediction str:  ilello\n",
            "64 loss:  0.5417041182518005 prediction [[1 3 2 3 3 4]] true Y:  [[1, 0, 2, 3, 3, 4]] prediction str:  ilello\n",
            "65 loss:  0.541330873966217 prediction [[1 3 2 3 3 4]] true Y:  [[1, 0, 2, 3, 3, 4]] prediction str:  ilello\n",
            "66 loss:  0.5407488942146301 prediction [[1 3 2 3 3 4]] true Y:  [[1, 0, 2, 3, 3, 4]] prediction str:  ilello\n",
            "67 loss:  0.5402577519416809 prediction [[1 3 2 3 3 4]] true Y:  [[1, 0, 2, 3, 3, 4]] prediction str:  ilello\n",
            "68 loss:  0.5399190783500671 prediction [[1 3 2 3 3 4]] true Y:  [[1, 0, 2, 3, 3, 4]] prediction str:  ilello\n",
            "69 loss:  0.5394624471664429 prediction [[1 3 2 3 3 4]] true Y:  [[1, 0, 2, 3, 3, 4]] prediction str:  ilello\n",
            "70 loss:  0.5390092134475708 prediction [[1 3 2 3 3 4]] true Y:  [[1, 0, 2, 3, 3, 4]] prediction str:  ilello\n",
            "71 loss:  0.5387027859687805 prediction [[1 3 2 3 3 4]] true Y:  [[1, 0, 2, 3, 3, 4]] prediction str:  ilello\n",
            "72 loss:  0.5383160710334778 prediction [[1 3 2 3 3 4]] true Y:  [[1, 0, 2, 3, 3, 4]] prediction str:  ilello\n",
            "73 loss:  0.5379177331924438 prediction [[1 3 2 3 3 4]] true Y:  [[1, 0, 2, 3, 3, 4]] prediction str:  ilello\n",
            "74 loss:  0.5376289486885071 prediction [[1 3 2 3 3 4]] true Y:  [[1, 0, 2, 3, 3, 4]] prediction str:  ilello\n",
            "75 loss:  0.5372946858406067 prediction [[1 3 2 3 3 4]] true Y:  [[1, 0, 2, 3, 3, 4]] prediction str:  ilello\n",
            "76 loss:  0.536936342716217 prediction [[1 3 2 3 3 4]] true Y:  [[1, 0, 2, 3, 3, 4]] prediction str:  ilello\n",
            "77 loss:  0.5366637706756592 prediction [[1 3 2 3 3 4]] true Y:  [[1, 0, 2, 3, 3, 4]] prediction str:  ilello\n",
            "78 loss:  0.5363660454750061 prediction [[1 3 2 3 3 4]] true Y:  [[1, 0, 2, 3, 3, 4]] prediction str:  ilello\n",
            "79 loss:  0.5360466837882996 prediction [[1 3 2 3 3 4]] true Y:  [[1, 0, 2, 3, 3, 4]] prediction str:  ilello\n",
            "80 loss:  0.535793125629425 prediction [[1 3 2 3 3 4]] true Y:  [[1, 0, 2, 3, 3, 4]] prediction str:  ilello\n",
            "81 loss:  0.5355224013328552 prediction [[1 3 2 3 3 4]] true Y:  [[1, 0, 2, 3, 3, 4]] prediction str:  ilello\n",
            "82 loss:  0.5352356433868408 prediction [[1 3 2 3 3 4]] true Y:  [[1, 0, 2, 3, 3, 4]] prediction str:  ilello\n",
            "83 loss:  0.5349993109703064 prediction [[1 3 2 3 3 4]] true Y:  [[1, 0, 2, 3, 3, 4]] prediction str:  ilello\n",
            "84 loss:  0.5347511172294617 prediction [[1 3 2 3 3 4]] true Y:  [[1, 0, 2, 3, 3, 4]] prediction str:  ilello\n",
            "85 loss:  0.5344937443733215 prediction [[1 3 2 3 3 4]] true Y:  [[1, 0, 2, 3, 3, 4]] prediction str:  ilello\n",
            "86 loss:  0.534275472164154 prediction [[1 3 2 3 3 4]] true Y:  [[1, 0, 2, 3, 3, 4]] prediction str:  ilello\n",
            "87 loss:  0.534046471118927 prediction [[1 3 2 3 3 4]] true Y:  [[1, 0, 2, 3, 3, 4]] prediction str:  ilello\n",
            "88 loss:  0.5338149666786194 prediction [[1 3 2 3 3 4]] true Y:  [[1, 0, 2, 3, 3, 4]] prediction str:  ilello\n",
            "89 loss:  0.5336135625839233 prediction [[1 3 2 3 3 4]] true Y:  [[1, 0, 2, 3, 3, 4]] prediction str:  ilello\n",
            "90 loss:  0.5334025025367737 prediction [[1 3 2 3 3 4]] true Y:  [[1, 0, 2, 3, 3, 4]] prediction str:  ilello\n",
            "91 loss:  0.5331950783729553 prediction [[1 3 2 3 3 4]] true Y:  [[1, 0, 2, 3, 3, 4]] prediction str:  ilello\n",
            "92 loss:  0.5330095887184143 prediction [[1 3 2 3 3 4]] true Y:  [[1, 0, 2, 3, 3, 4]] prediction str:  ilello\n",
            "93 loss:  0.5328157544136047 prediction [[1 3 2 3 3 4]] true Y:  [[1, 0, 2, 3, 3, 4]] prediction str:  ilello\n",
            "94 loss:  0.5326293110847473 prediction [[1 3 2 3 3 4]] true Y:  [[1, 0, 2, 3, 3, 4]] prediction str:  ilello\n",
            "95 loss:  0.5324582457542419 prediction [[1 3 2 3 3 4]] true Y:  [[1, 0, 2, 3, 3, 4]] prediction str:  ilello\n",
            "96 loss:  0.5322802662849426 prediction [[1 3 2 3 3 4]] true Y:  [[1, 0, 2, 3, 3, 4]] prediction str:  ilello\n",
            "97 loss:  0.5321123600006104 prediction [[1 3 2 3 3 4]] true Y:  [[1, 0, 2, 3, 3, 4]] prediction str:  ilello\n",
            "98 loss:  0.5319532752037048 prediction [[1 3 2 3 3 4]] true Y:  [[1, 0, 2, 3, 3, 4]] prediction str:  ilello\n",
            "99 loss:  0.5317898988723755 prediction [[1 3 2 3 3 4]] true Y:  [[1, 0, 2, 3, 3, 4]] prediction str:  ilello\n"
          ],
          "name": "stdout"
        }
      ]
    },
    {
      "cell_type": "markdown",
      "metadata": {
        "id": "6R2zuXs07eD3",
        "colab_type": "text"
      },
      "source": [
        "## **Code Run - charseq**"
      ]
    },
    {
      "cell_type": "code",
      "metadata": {
        "id": "Do8OVoc4AvDb",
        "colab_type": "code",
        "colab": {
          "base_uri": "https://localhost:8080/",
          "height": 36
        },
        "outputId": "64bcd717-9dee-4431-b13c-e607b3101c34"
      },
      "source": [
        "# Random seed to make results deterministic and reproducible\n",
        "torch.manual_seed(0)"
      ],
      "execution_count": 26,
      "outputs": [
        {
          "output_type": "execute_result",
          "data": {
            "text/plain": [
              "<torch._C.Generator at 0x7f046ca25030>"
            ]
          },
          "metadata": {
            "tags": []
          },
          "execution_count": 26
        }
      ]
    },
    {
      "cell_type": "code",
      "metadata": {
        "id": "S8ctCW1L7jbV",
        "colab_type": "code",
        "colab": {}
      },
      "source": [
        "sample = \" if you want you\""
      ],
      "execution_count": 0,
      "outputs": []
    },
    {
      "cell_type": "code",
      "metadata": {
        "id": "_C9BOv4w7y6P",
        "colab_type": "code",
        "colab": {
          "base_uri": "https://localhost:8080/",
          "height": 36
        },
        "outputId": "5ee6bbf1-5096-4298-c3b4-9da1d1dc0489"
      },
      "source": [
        "# make dictionary\n",
        "char_set = list(set(sample))\n",
        "char_dic = {c: i for i, c in enumerate(char_set)}\n",
        "print(char_dic)"
      ],
      "execution_count": 28,
      "outputs": [
        {
          "output_type": "stream",
          "text": [
            "{' ': 0, 'i': 1, 'w': 2, 'f': 3, 'u': 4, 'a': 5, 'y': 6, 't': 7, 'o': 8, 'n': 9}\n"
          ],
          "name": "stdout"
        }
      ]
    },
    {
      "cell_type": "markdown",
      "metadata": {
        "id": "j7xEJYlc8QPI",
        "colab_type": "text"
      },
      "source": [
        "**집합 자료형 set**\n",
        "\n",
        "1. 리스트입력\n",
        "\n",
        "  set([1,2,3]) -> {1, 2, 3}\n",
        "\n",
        "2. 문자열 입력\n",
        "\n",
        "  set(\"Hello\") -> {'e', 'H', 'l', 'o'}\n",
        "\n",
        "**특징**\n",
        "*   중복을 허용하지 않는다.\n",
        "*   순서가 없다(Unordered).\n",
        "\n",
        "\n"
      ]
    },
    {
      "cell_type": "code",
      "metadata": {
        "id": "UkmneyDm78mR",
        "colab_type": "code",
        "colab": {}
      },
      "source": [
        "# hyper parameters\n",
        "dic_size = len(char_dic)\n",
        "hidden_size = len(char_dic)\n",
        "learning_rate = 0.1"
      ],
      "execution_count": 0,
      "outputs": []
    },
    {
      "cell_type": "code",
      "metadata": {
        "id": "bqDZvOZ79vy5",
        "colab_type": "code",
        "colab": {}
      },
      "source": [
        "# data setting\n",
        "sample_idx = [char_dic[c] for c in sample]\n",
        "x_data = [sample_idx[:-1]] # 맨 뒤에 하나 빼고\n",
        "x_one_hot = [np.eye(dic_size)[x] for x in x_data]\n",
        "y_data = [sample_idx[1:]] # 맨 앞에 하나 빼고"
      ],
      "execution_count": 0,
      "outputs": []
    },
    {
      "cell_type": "markdown",
      "metadata": {
        "id": "R9ywCmKl-4du",
        "colab_type": "text"
      },
      "source": [
        "\n",
        "\n",
        "*   이전과 다르게 dictionary형태로 저장 \n",
        "*   np.eye : 대각성분은 '1'이고 나머지 성분은 '0'으로 구성된 정방행렬인 항등행렬(identity matrix) 혹은 **단위행렬**(unit matrix)을 만듬 \n",
        "\n"
      ]
    },
    {
      "cell_type": "code",
      "metadata": {
        "id": "3yYVABoF-Ed-",
        "colab_type": "code",
        "colab": {}
      },
      "source": [
        "# transform as torch tensor variable\n",
        "X = torch.FloatTensor(x_one_hot)\n",
        "Y = torch.LongTensor(y_data)"
      ],
      "execution_count": 0,
      "outputs": []
    },
    {
      "cell_type": "code",
      "metadata": {
        "id": "hXOHJkc3_DmP",
        "colab_type": "code",
        "colab": {}
      },
      "source": [
        "# declare RNN\n",
        "rnn = torch.nn.RNN(dic_size, hidden_size, batch_first=True)"
      ],
      "execution_count": 0,
      "outputs": []
    },
    {
      "cell_type": "code",
      "metadata": {
        "id": "fPXmL527_FVW",
        "colab_type": "code",
        "colab": {}
      },
      "source": [
        "# loss & optimizer setting\n",
        "criterion = torch.nn.CrossEntropyLoss()\n",
        "optimizer = optim.Adam(rnn.parameters(), learning_rate)"
      ],
      "execution_count": 0,
      "outputs": []
    },
    {
      "cell_type": "code",
      "metadata": {
        "id": "O62FogPx_Gen",
        "colab_type": "code",
        "colab": {
          "base_uri": "https://localhost:8080/",
          "height": 971
        },
        "outputId": "679a2845-343f-458f-8015-3c86210329db"
      },
      "source": [
        "# start training\n",
        "for i in range(50):\n",
        "    optimizer.zero_grad()\n",
        "    # _status : 만약 다음 input이 있으면 그걸 RNN안에서 계산할 때 쓰이게 될 hidden state\n",
        "    # 여기서는 주어진 모든 input을 다 처리하고 나오기 때문에 따로 쓰이지는 않는다.\n",
        "    outputs, _status = rnn(X)\n",
        "    # view를 쓰는 이유는 shape을 batch_dimension이 앞에 오도록 바꿔주기 위함이다.\n",
        "    loss = criterion(outputs.view(-1, dic_size), Y.view(-1))\n",
        "    loss.backward()\n",
        "    optimizer.step()\n",
        "\n",
        "    # index=2인 dim, 즉 어떤 character인지 나타내는 dim에서 가장 큰 index만 가져온다.\n",
        "    result = outputs.data.numpy().argmax(axis=2)\n",
        "    # join을 통해서 하나의 string으로.\n",
        "    # np.sqeeze는 shape에서 dim=1인 축을 없애준다.\n",
        "    result_str = ''.join([char_set[c] for c in np.squeeze(result)])\n",
        "    print(i, \"loss: \", loss.item(), \"prediction: \", result, \"true Y: \", y_data, \"prediction str: \", result_str)"
      ],
      "execution_count": 34,
      "outputs": [
        {
          "output_type": "stream",
          "text": [
            "0 loss:  2.2919626235961914 prediction:  [[5 8 7 5 8 8 7 5 8 7 0 0 5 7 8]] true Y:  [[1, 3, 0, 6, 8, 4, 0, 2, 5, 9, 7, 0, 6, 8, 4]] prediction str:  aotaootaot  ato\n",
            "1 loss:  1.9778224229812622 prediction:  [[5 0 7 6 8 0 0 0 5 0 0 0 6 8 0]] true Y:  [[1, 3, 0, 6, 8, 4, 0, 2, 5, 9, 7, 0, 6, 8, 4]] prediction str:  a tyo   a   yo \n",
            "2 loss:  1.7548198699951172 prediction:  [[4 0 0 6 8 0 0 0 4 0 0 0 0 8 0]] true Y:  [[1, 3, 0, 6, 8, 4, 0, 2, 5, 9, 7, 0, 6, 8, 4]] prediction str:  u  yo   u    o \n",
            "3 loss:  1.5657832622528076 prediction:  [[1 8 0 6 8 4 0 2 5 0 0 0 6 8 4]] true Y:  [[1, 3, 0, 6, 8, 4, 0, 2, 5, 9, 7, 0, 6, 8, 4]] prediction str:  io you wa   you\n",
            "4 loss:  1.4374821186065674 prediction:  [[1 8 0 6 8 4 0 2 5 9 0 0 6 8 4]] true Y:  [[1, 3, 0, 6, 8, 4, 0, 2, 5, 9, 7, 0, 6, 8, 4]] prediction str:  io you wan  you\n",
            "5 loss:  1.3541741371154785 prediction:  [[1 3 0 6 8 4 5 2 5 9 7 0 6 8 4]] true Y:  [[1, 3, 0, 6, 8, 4, 0, 2, 5, 9, 7, 0, 6, 8, 4]] prediction str:  if youawant you\n",
            "6 loss:  1.2840250730514526 prediction:  [[1 3 0 6 8 4 5 2 5 2 7 0 6 2 4]] true Y:  [[1, 3, 0, 6, 8, 4, 0, 2, 5, 9, 7, 0, 6, 8, 4]] prediction str:  if youawawt ywu\n",
            "7 loss:  1.2206002473831177 prediction:  [[1 3 0 6 2 4 5 2 5 2 7 0 6 2 4]] true Y:  [[1, 3, 0, 6, 8, 4, 0, 2, 5, 9, 7, 0, 6, 8, 4]] prediction str:  if ywuawawt ywu\n",
            "8 loss:  1.1697391271591187 prediction:  [[1 3 0 6 2 4 5 2 5 2 7 0 6 2 4]] true Y:  [[1, 3, 0, 6, 8, 4, 0, 2, 5, 9, 7, 0, 6, 8, 4]] prediction str:  if ywuawawt ywu\n",
            "9 loss:  1.1201955080032349 prediction:  [[1 3 0 6 2 4 5 2 5 2 7 0 6 8 4]] true Y:  [[1, 3, 0, 6, 8, 4, 0, 2, 5, 9, 7, 0, 6, 8, 4]] prediction str:  if ywuawawt you\n",
            "10 loss:  1.074499487876892 prediction:  [[1 3 0 6 8 4 0 2 5 9 7 0 6 8 4]] true Y:  [[1, 3, 0, 6, 8, 4, 0, 2, 5, 9, 7, 0, 6, 8, 4]] prediction str:  if you want you\n",
            "11 loss:  1.0412516593933105 prediction:  [[1 3 0 6 8 4 0 2 5 9 7 0 6 8 4]] true Y:  [[1, 3, 0, 6, 8, 4, 0, 2, 5, 9, 7, 0, 6, 8, 4]] prediction str:  if you want you\n",
            "12 loss:  1.021538257598877 prediction:  [[1 3 0 6 8 4 0 2 5 9 7 0 6 8 4]] true Y:  [[1, 3, 0, 6, 8, 4, 0, 2, 5, 9, 7, 0, 6, 8, 4]] prediction str:  if you want you\n",
            "13 loss:  0.9966202974319458 prediction:  [[1 3 0 6 8 4 0 2 5 9 7 0 6 8 4]] true Y:  [[1, 3, 0, 6, 8, 4, 0, 2, 5, 9, 7, 0, 6, 8, 4]] prediction str:  if you want you\n",
            "14 loss:  0.9736197590827942 prediction:  [[1 3 0 6 8 4 0 2 5 9 7 0 6 8 4]] true Y:  [[1, 3, 0, 6, 8, 4, 0, 2, 5, 9, 7, 0, 6, 8, 4]] prediction str:  if you want you\n",
            "15 loss:  0.9513511657714844 prediction:  [[1 3 0 6 8 4 0 2 5 9 7 0 6 8 4]] true Y:  [[1, 3, 0, 6, 8, 4, 0, 2, 5, 9, 7, 0, 6, 8, 4]] prediction str:  if you want you\n",
            "16 loss:  0.9427613019943237 prediction:  [[1 3 0 6 8 4 0 2 5 9 7 0 6 8 4]] true Y:  [[1, 3, 0, 6, 8, 4, 0, 2, 5, 9, 7, 0, 6, 8, 4]] prediction str:  if you want you\n",
            "17 loss:  0.9232051968574524 prediction:  [[1 3 0 6 8 4 0 2 5 9 7 0 6 8 4]] true Y:  [[1, 3, 0, 6, 8, 4, 0, 2, 5, 9, 7, 0, 6, 8, 4]] prediction str:  if you want you\n",
            "18 loss:  0.9119263291358948 prediction:  [[1 3 0 6 8 4 0 2 5 9 7 0 6 8 4]] true Y:  [[1, 3, 0, 6, 8, 4, 0, 2, 5, 9, 7, 0, 6, 8, 4]] prediction str:  if you want you\n",
            "19 loss:  0.8976423740386963 prediction:  [[1 3 0 6 8 4 0 2 5 9 7 0 6 8 4]] true Y:  [[1, 3, 0, 6, 8, 4, 0, 2, 5, 9, 7, 0, 6, 8, 4]] prediction str:  if you want you\n",
            "20 loss:  0.8932760953903198 prediction:  [[1 3 0 6 8 4 0 2 5 9 7 0 6 8 4]] true Y:  [[1, 3, 0, 6, 8, 4, 0, 2, 5, 9, 7, 0, 6, 8, 4]] prediction str:  if you want you\n",
            "21 loss:  0.8812233209609985 prediction:  [[1 3 0 6 8 4 0 2 5 9 7 0 6 8 4]] true Y:  [[1, 3, 0, 6, 8, 4, 0, 2, 5, 9, 7, 0, 6, 8, 4]] prediction str:  if you want you\n",
            "22 loss:  0.8748132586479187 prediction:  [[1 3 0 6 8 4 0 2 5 9 7 0 6 8 4]] true Y:  [[1, 3, 0, 6, 8, 4, 0, 2, 5, 9, 7, 0, 6, 8, 4]] prediction str:  if you want you\n",
            "23 loss:  0.8691419959068298 prediction:  [[1 3 0 6 8 4 0 2 5 9 7 0 6 8 4]] true Y:  [[1, 3, 0, 6, 8, 4, 0, 2, 5, 9, 7, 0, 6, 8, 4]] prediction str:  if you want you\n",
            "24 loss:  0.8623412847518921 prediction:  [[1 3 0 6 8 4 0 2 5 9 7 0 6 8 4]] true Y:  [[1, 3, 0, 6, 8, 4, 0, 2, 5, 9, 7, 0, 6, 8, 4]] prediction str:  if you want you\n",
            "25 loss:  0.8557116985321045 prediction:  [[1 3 0 6 8 4 0 2 5 9 7 0 6 8 4]] true Y:  [[1, 3, 0, 6, 8, 4, 0, 2, 5, 9, 7, 0, 6, 8, 4]] prediction str:  if you want you\n",
            "26 loss:  0.8507657647132874 prediction:  [[1 3 0 6 8 4 0 2 5 9 7 0 6 8 4]] true Y:  [[1, 3, 0, 6, 8, 4, 0, 2, 5, 9, 7, 0, 6, 8, 4]] prediction str:  if you want you\n",
            "27 loss:  0.8474991321563721 prediction:  [[1 3 0 6 8 4 0 2 5 9 7 0 6 8 4]] true Y:  [[1, 3, 0, 6, 8, 4, 0, 2, 5, 9, 7, 0, 6, 8, 4]] prediction str:  if you want you\n",
            "28 loss:  0.8449591398239136 prediction:  [[1 3 0 6 8 4 0 2 5 9 7 0 6 8 4]] true Y:  [[1, 3, 0, 6, 8, 4, 0, 2, 5, 9, 7, 0, 6, 8, 4]] prediction str:  if you want you\n",
            "29 loss:  0.8417927622795105 prediction:  [[1 3 0 6 8 4 0 2 5 9 7 0 6 8 4]] true Y:  [[1, 3, 0, 6, 8, 4, 0, 2, 5, 9, 7, 0, 6, 8, 4]] prediction str:  if you want you\n",
            "30 loss:  0.838564932346344 prediction:  [[1 3 0 6 8 4 0 2 5 9 7 0 6 8 4]] true Y:  [[1, 3, 0, 6, 8, 4, 0, 2, 5, 9, 7, 0, 6, 8, 4]] prediction str:  if you want you\n",
            "31 loss:  0.8360723853111267 prediction:  [[1 3 0 6 8 4 0 2 5 9 7 0 6 8 4]] true Y:  [[1, 3, 0, 6, 8, 4, 0, 2, 5, 9, 7, 0, 6, 8, 4]] prediction str:  if you want you\n",
            "32 loss:  0.8339711427688599 prediction:  [[1 3 0 6 8 4 0 2 5 9 7 0 6 8 4]] true Y:  [[1, 3, 0, 6, 8, 4, 0, 2, 5, 9, 7, 0, 6, 8, 4]] prediction str:  if you want you\n",
            "33 loss:  0.8320897221565247 prediction:  [[1 3 0 6 8 4 0 2 5 9 7 0 6 8 4]] true Y:  [[1, 3, 0, 6, 8, 4, 0, 2, 5, 9, 7, 0, 6, 8, 4]] prediction str:  if you want you\n",
            "34 loss:  0.8305794596672058 prediction:  [[1 3 0 6 8 4 0 2 5 9 7 0 6 8 4]] true Y:  [[1, 3, 0, 6, 8, 4, 0, 2, 5, 9, 7, 0, 6, 8, 4]] prediction str:  if you want you\n",
            "35 loss:  0.8293069005012512 prediction:  [[1 3 0 6 8 4 0 2 5 9 7 0 6 8 4]] true Y:  [[1, 3, 0, 6, 8, 4, 0, 2, 5, 9, 7, 0, 6, 8, 4]] prediction str:  if you want you\n",
            "36 loss:  0.8279053568840027 prediction:  [[1 3 0 6 8 4 0 2 5 9 7 0 6 8 4]] true Y:  [[1, 3, 0, 6, 8, 4, 0, 2, 5, 9, 7, 0, 6, 8, 4]] prediction str:  if you want you\n",
            "37 loss:  0.82659512758255 prediction:  [[1 3 0 6 8 4 0 2 5 9 7 0 6 8 4]] true Y:  [[1, 3, 0, 6, 8, 4, 0, 2, 5, 9, 7, 0, 6, 8, 4]] prediction str:  if you want you\n",
            "38 loss:  0.825475811958313 prediction:  [[1 3 0 6 8 4 0 2 5 9 7 0 6 8 4]] true Y:  [[1, 3, 0, 6, 8, 4, 0, 2, 5, 9, 7, 0, 6, 8, 4]] prediction str:  if you want you\n",
            "39 loss:  0.8243986964225769 prediction:  [[1 3 0 6 8 4 0 2 5 9 7 0 6 8 4]] true Y:  [[1, 3, 0, 6, 8, 4, 0, 2, 5, 9, 7, 0, 6, 8, 4]] prediction str:  if you want you\n",
            "40 loss:  0.8233802914619446 prediction:  [[1 3 0 6 8 4 0 2 5 9 7 0 6 8 4]] true Y:  [[1, 3, 0, 6, 8, 4, 0, 2, 5, 9, 7, 0, 6, 8, 4]] prediction str:  if you want you\n",
            "41 loss:  0.8225619196891785 prediction:  [[1 3 0 6 8 4 0 2 5 9 7 0 6 8 4]] true Y:  [[1, 3, 0, 6, 8, 4, 0, 2, 5, 9, 7, 0, 6, 8, 4]] prediction str:  if you want you\n",
            "42 loss:  0.8218816518783569 prediction:  [[1 3 0 6 8 4 0 2 5 9 7 0 6 8 4]] true Y:  [[1, 3, 0, 6, 8, 4, 0, 2, 5, 9, 7, 0, 6, 8, 4]] prediction str:  if you want you\n",
            "43 loss:  0.8212394118309021 prediction:  [[1 3 0 6 8 4 0 2 5 9 7 0 6 8 4]] true Y:  [[1, 3, 0, 6, 8, 4, 0, 2, 5, 9, 7, 0, 6, 8, 4]] prediction str:  if you want you\n",
            "44 loss:  0.820728600025177 prediction:  [[1 3 0 6 8 4 0 2 5 9 7 0 6 8 4]] true Y:  [[1, 3, 0, 6, 8, 4, 0, 2, 5, 9, 7, 0, 6, 8, 4]] prediction str:  if you want you\n",
            "45 loss:  0.8202520608901978 prediction:  [[1 3 0 6 8 4 0 2 5 9 7 0 6 8 4]] true Y:  [[1, 3, 0, 6, 8, 4, 0, 2, 5, 9, 7, 0, 6, 8, 4]] prediction str:  if you want you\n",
            "46 loss:  0.8197153806686401 prediction:  [[1 3 0 6 8 4 0 2 5 9 7 0 6 8 4]] true Y:  [[1, 3, 0, 6, 8, 4, 0, 2, 5, 9, 7, 0, 6, 8, 4]] prediction str:  if you want you\n",
            "47 loss:  0.8192049860954285 prediction:  [[1 3 0 6 8 4 0 2 5 9 7 0 6 8 4]] true Y:  [[1, 3, 0, 6, 8, 4, 0, 2, 5, 9, 7, 0, 6, 8, 4]] prediction str:  if you want you\n",
            "48 loss:  0.8187196254730225 prediction:  [[1 3 0 6 8 4 0 2 5 9 7 0 6 8 4]] true Y:  [[1, 3, 0, 6, 8, 4, 0, 2, 5, 9, 7, 0, 6, 8, 4]] prediction str:  if you want you\n",
            "49 loss:  0.8182215094566345 prediction:  [[1 3 0 6 8 4 0 2 5 9 7 0 6 8 4]] true Y:  [[1, 3, 0, 6, 8, 4, 0, 2, 5, 9, 7, 0, 6, 8, 4]] prediction str:  if you want you\n"
          ],
          "name": "stdout"
        }
      ]
    },
    {
      "cell_type": "code",
      "metadata": {
        "id": "XPqKN9kR_J_8",
        "colab_type": "code",
        "colab": {}
      },
      "source": [
        ""
      ],
      "execution_count": 0,
      "outputs": []
    }
  ]
}