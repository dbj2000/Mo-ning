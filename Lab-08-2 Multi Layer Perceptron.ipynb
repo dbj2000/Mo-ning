{
 "cells": [
  {
   "cell_type": "markdown",
   "metadata": {},
   "source": [
    " # Review: XOR"
   ]
  },
  {
   "cell_type": "markdown",
   "metadata": {},
   "source": [
    "XOR는 하나의 층(layer)만 가지는 perceptron으로는 해결할 수 없는 문제임을 배웠다. 따라서 이 문제는 Multilayer Perceptron으로 해결해야 한다."
   ]
  },
  {
   "cell_type": "markdown",
   "metadata": {},
   "source": [
    "# Multilayer Perceptron"
   ]
  },
  {
   "cell_type": "markdown",
   "metadata": {},
   "source": [
    "하나의 층을 더 쌓아서 선을 하나 더 긋는 원리이다."
   ]
  },
  {
   "cell_type": "markdown",
   "metadata": {},
   "source": [
    "![텍스트](https://www.researchgate.net/profile/Hamidreza_Modares/publication/220283506/figure/fig1/AS:669990353133590@1536749556344/Solving-XOR-problem-using-3-conventional-neurons-as-a-2-2-1-MLP-network.png)"
   ]
  },
  {
   "cell_type": "markdown",
   "metadata": {},
   "source": [
    "# Backpropagation"
   ]
  },
  {
   "cell_type": "markdown",
   "metadata": {},
   "source": [
    "output과 원래 정답인 G(t)간의 차이, 즉 loss(=cost)에 대해서 weight들에 대한 미분 값을 계산하게 되고 이 gradient를 가지고 뒷단에 있는 weight부터 loss값을 최소화시킬 수 있도록 weight를 업데이트 하는 방식이다."
   ]
  },
  {
   "cell_type": "code",
   "execution_count": 36,
   "metadata": {},
   "outputs": [],
   "source": [
    "import torch"
   ]
  },
  {
   "cell_type": "code",
   "execution_count": 37,
   "metadata": {},
   "outputs": [],
   "source": [
    "device = 'cuda' if torch.cuda.is_available() else 'cpu'\n",
    "\n",
    "# for reproducibility\n",
    "torch.manual_seed(777)\n",
    "if device == 'cuda':\n",
    "    torch.cuda.manual_seed_all(777)"
   ]
  },
  {
   "cell_type": "code",
   "execution_count": 38,
   "metadata": {},
   "outputs": [],
   "source": [
    "X = torch.FloatTensor([[0, 0], [0, 1], [1, 0], [1, 1]]).to(device)\n",
    "Y = torch.FloatTensor([[0], [1], [1], [0]]).to(device)"
   ]
  },
  {
   "cell_type": "markdown",
   "metadata": {},
   "source": [
    "linear1 = torch.nn.Linear(2, 2, bias=True)<br>\n",
    "linear2 = torch.nn.Linear(2, 1, bias=True)<br>\n",
    "sigmoid = torch.nn.Sigmoid()"
   ]
  },
  {
   "cell_type": "markdown",
   "metadata": {},
   "source": [
    "평상시에는 이렇게 torch.nn 패키지에 있는 linear layer를 주로 사용하지만 이번에는 backpropagation으로 직접 업데이트 하기 위해 weight와 bias를 직접 다 선언해보도록 하겠다."
   ]
  },
  {
   "cell_type": "code",
   "execution_count": 39,
   "metadata": {},
   "outputs": [],
   "source": [
    "# nn layers\n",
    "w1 = torch.Tensor(2, 2).to(device)\n",
    "b1 = torch.Tensor(2).to(device)\n",
    "w2 = torch.Tensor(2, 1).to(device)\n",
    "b2 = torch.Tensor(1).to(device)"
   ]
  },
  {
   "cell_type": "code",
   "execution_count": 40,
   "metadata": {},
   "outputs": [],
   "source": [
    "# sigmoid도 pytorch가아닌 직접 함수로 적용해보겠다,\n",
    "def sigmoid(x):\n",
    "    return 1.0 / (1.0 + torch.exp(-x))\n",
    "\n",
    "# sigmoid를 미분한 함수 (backpropagation결과임)\n",
    "def sigmoid_prime(x):\n",
    "    return sigmoid(x) * (1-sigmoid(x))"
   ]
  },
  {
   "cell_type": "code",
   "execution_count": 41,
   "metadata": {},
   "outputs": [
    {
     "name": "stdout",
     "output_type": "stream",
     "text": [
      "0 0.7240769863128662\n",
      "100 0.6931483745574951\n",
      "200 0.6931473016738892\n",
      "300 0.6931471824645996\n",
      "400 0.6931471824645996\n",
      "500 0.6931471824645996\n",
      "600 0.6931471824645996\n",
      "700 0.6931471824645996\n",
      "800 0.6931471824645996\n",
      "900 0.6931471228599548\n",
      "1000 0.6931471824645996\n",
      "1100 0.6931471824645996\n",
      "1200 0.6931471228599548\n",
      "1300 0.6931471824645996\n",
      "1400 0.6931471824645996\n",
      "1500 0.6931471824645996\n",
      "1600 0.6931471824645996\n",
      "1700 0.6931471824645996\n",
      "1800 0.6931471824645996\n",
      "1900 0.6931471824645996\n",
      "2000 0.6931471824645996\n",
      "2100 0.6931471228599548\n",
      "2200 0.6931471824645996\n",
      "2300 0.6931471824645996\n",
      "2400 0.6931471824645996\n",
      "2500 0.6931471824645996\n",
      "2600 0.6931471824645996\n",
      "2700 0.6931470632553101\n",
      "2800 0.6931471824645996\n",
      "2900 0.6931471824645996\n",
      "3000 0.6931471824645996\n",
      "3100 0.6931470632553101\n",
      "3200 0.6931470036506653\n",
      "3300 0.6931470632553101\n",
      "3400 0.6931470632553101\n",
      "3500 0.6931470632553101\n",
      "3600 0.6931469440460205\n",
      "3700 0.693146824836731\n",
      "3800 0.693146824836731\n",
      "3900 0.6931465268135071\n",
      "4000 0.6931461095809937\n",
      "4100 0.6931454539299011\n",
      "4200 0.6931437849998474\n",
      "4300 0.6931390762329102\n",
      "4400 0.6931164264678955\n",
      "4500 0.692685067653656\n",
      "4600 0.4476134777069092\n",
      "4700 0.07464542984962463\n",
      "4800 0.026475751772522926\n",
      "4900 0.01531543955206871\n",
      "5000 0.01063270028680563\n",
      "5100 0.00809826422482729\n",
      "5200 0.0065207043662667274\n",
      "5300 0.0054483236744999886\n",
      "5400 0.004673665855079889\n",
      "5500 0.004088748246431351\n",
      "5600 0.0036320039071142673\n",
      "5700 0.0032656691037118435\n",
      "5800 0.00296555133536458\n",
      "5900 0.002715267473831773\n",
      "6000 0.002503388561308384\n",
      "6100 0.0023218393325805664\n",
      "6200 0.002164514735341072\n",
      "6300 0.0020269318483769894\n",
      "6400 0.001905643381178379\n",
      "6500 0.0017978483811020851\n",
      "6600 0.0017015241319313645\n",
      "6700 0.0016148595605045557\n",
      "6800 0.0015365073923021555\n",
      "6900 0.001465330016799271\n",
      "7000 0.0014004148542881012\n",
      "7100 0.0013409092789515853\n",
      "7200 0.0012862596195191145\n",
      "7300 0.0012358232634142041\n",
      "7400 0.0011891513131558895\n",
      "7500 0.0011458403896540403\n",
      "7600 0.0011056060902774334\n",
      "7700 0.0010680151171982288\n",
      "7800 0.001032873522490263\n",
      "7900 0.0009999715257436037\n",
      "8000 0.0009690704755485058\n",
      "8100 0.0009400356211699545\n",
      "8200 0.0009126579388976097\n",
      "8300 0.0008868328295648098\n",
      "8400 0.0008623662870377302\n",
      "8500 0.0008392281597480178\n",
      "8600 0.000817388528957963\n",
      "8700 0.0007965044351294637\n",
      "8800 0.0007767245988361537\n",
      "8900 0.0007578552467748523\n",
      "9000 0.0007399558089673519\n",
      "9100 0.0007227878086268902\n",
      "9200 0.0007064255187287927\n",
      "9300 0.0006907646893523633\n",
      "9400 0.000675849849358201\n",
      "9500 0.0006615020683966577\n",
      "9600 0.0006477511487901211\n",
      "9700 0.0006345224683173001\n",
      "9800 0.0006218756316229701\n",
      "9900 0.0006097062141634524\n",
      "10000 0.0005979844136163592\n"
     ]
    }
   ],
   "source": [
    "learning_rate = 1\n",
    "for step in range(10001):\n",
    "    # forward\n",
    "    l1 = torch.add(torch.matmul(X, w1), b1)\n",
    "    a1 = sigmoid(l1)\n",
    "    l2 = torch.add(torch.matmul(a1, w2), b2)\n",
    "    Y_pred = sigmoid(l2)\n",
    "    \n",
    "    # binary_cross_entropy loss\n",
    "    cost = -torch.mean(Y * torch.log(Y_pred) + (1 - Y) * torch.log(1 - Y_pred))\n",
    "    \n",
    "    # Back prop (chain rule)\n",
    "    # binary_cross_entropy loss를 미분한 식\n",
    "    d_Y_pred = (Y_pred - Y) / (Y_pred * (1.0 - Y_pred) + 1e-7)\n",
    "    # 마지막 항 1e-7은 0으로 나누어지는 경우를 막아주기 위한 term\n",
    "    \n",
    "    # Layer 2\n",
    "    d_l2 = d_Y_pred * sigmoid_prime(l2) \n",
    "    d_b2 = d_l2\n",
    "    d_w2 = torch.matmul(torch.transpose(a1, 0, 1), d_b2) # transpose(x, y, z) : y 와 z 차원을 서로 swap시켜라\n",
    "    # 여기서 a1은 (4, 2)였는데 (2, 4)로 바껴서 d_b2(= d_l2)즉 (4, 1)과 행렬곱이 가능해짐\n",
    "    \n",
    "    # Layer 1\n",
    "    d_a1 = torch.matmul(d_b2, torch.transpose(w2, 0, 1))\n",
    "    d_l1 = d_a1 * sigmoid_prime(l1)\n",
    "    d_b1 = d_l1\n",
    "    d_w1 = torch.matmul(torch.transpose(X, 0, 1), d_b1) \n",
    "    \n",
    "    # Weight update\n",
    "    # gradient descent를 minimize 시키는 원리\n",
    "    w1 = w1 - learning_rate * d_w1\n",
    "    b1 = b1 - learning_rate * torch.mean(d_b1, 0)\n",
    "    w2 = w2 - learning_rate * d_w2\n",
    "    b2 = b2 - learning_rate * torch.mean(d_b2, 0)\n",
    "    \n",
    "    if step % 100 == 0 :\n",
    "        print(step, cost.item())"
   ]
  },
  {
   "cell_type": "code",
   "execution_count": 42,
   "metadata": {},
   "outputs": [
    {
     "name": "stdout",
     "output_type": "stream",
     "text": [
      "\n",
      "Hypothesis:  [[0.00151766]\n",
      " [0.9988372 ]\n",
      " [0.9988397 ]\n",
      " [0.00134214]] \n",
      "Correct:  [[0.]\n",
      " [1.]\n",
      " [1.]\n",
      " [0.]] \n",
      "Accuracy:  1.0\n"
     ]
    }
   ],
   "source": [
    "# Accuracy computation\n",
    "# True if hypothesis>0.5 else False\n",
    "with torch.no_grad():\n",
    "    hypothesis = model(X)\n",
    "    predicted = (hypothesis > 0.5).float()\n",
    "    accuracy = (predicted == Y).float().mean()\n",
    "    print('\\nHypothesis: ', hypothesis.detach().cpu().numpy(), '\\nCorrect: ', predicted.detach().cpu().numpy(), '\\nAccuracy: ', accuracy.item())"
   ]
  },
  {
   "cell_type": "markdown",
   "metadata": {},
   "source": [
    "# Code: xor-nn"
   ]
  },
  {
   "cell_type": "code",
   "execution_count": 43,
   "metadata": {},
   "outputs": [],
   "source": [
    "import torch"
   ]
  },
  {
   "cell_type": "code",
   "execution_count": 44,
   "metadata": {},
   "outputs": [],
   "source": [
    "device = 'cuda' if torch.cuda.is_available() else 'cpu'\n",
    "\n",
    "# for reproducibility\n",
    "torch.manual_seed(777)\n",
    "if device == 'cuda':\n",
    "    torch.cuda.manual_seed_all(777)"
   ]
  },
  {
   "cell_type": "code",
   "execution_count": 45,
   "metadata": {},
   "outputs": [],
   "source": [
    "X = torch.FloatTensor([[0, 0], [0, 1], [1, 0], [1, 1]]).to(device)\n",
    "Y = torch.FloatTensor([[0], [1], [1], [0]]).to(device)"
   ]
  },
  {
   "cell_type": "code",
   "execution_count": 46,
   "metadata": {},
   "outputs": [],
   "source": [
    "# nn layers\n",
    "linear1 = torch.nn.Linear(2, 2, bias=True)\n",
    "linear2 = torch.nn.Linear(2, 1, bias=True)\n",
    "sigmoid = torch.nn.Sigmoid()"
   ]
  },
  {
   "cell_type": "code",
   "execution_count": 47,
   "metadata": {},
   "outputs": [],
   "source": [
    "# model\n",
    "model = torch.nn.Sequential(linear1, sigmoid, linear2, sigmoid).to(device)"
   ]
  },
  {
   "cell_type": "code",
   "execution_count": 48,
   "metadata": {},
   "outputs": [],
   "source": [
    "# define cost/loss & optimizer\n",
    "criterion = torch.nn.BCELoss().to(device)\n",
    "optimizer = torch.optim.SGD(model.parameters(), lr=1)  # modified learning rate from 0.1 to 1"
   ]
  },
  {
   "cell_type": "code",
   "execution_count": 49,
   "metadata": {},
   "outputs": [
    {
     "name": "stdout",
     "output_type": "stream",
     "text": [
      "0 0.7434073090553284\n",
      "100 0.693165123462677\n",
      "200 0.6931577920913696\n",
      "300 0.6931517124176025\n",
      "400 0.6931463479995728\n",
      "500 0.6931411027908325\n",
      "600 0.6931357383728027\n",
      "700 0.6931294798851013\n",
      "800 0.6931220293045044\n",
      "900 0.6931126117706299\n",
      "1000 0.6930999755859375\n",
      "1100 0.6930822730064392\n",
      "1200 0.6930569410324097\n",
      "1300 0.6930190324783325\n",
      "1400 0.6929606199264526\n",
      "1500 0.6928660273551941\n",
      "1600 0.6927032470703125\n",
      "1700 0.6923959255218506\n",
      "1800 0.6917300820350647\n",
      "1900 0.6899652481079102\n",
      "2000 0.6838312149047852\n",
      "2100 0.6561650037765503\n",
      "2200 0.4310865104198456\n",
      "2300 0.13488933444023132\n",
      "2400 0.06630323827266693\n",
      "2500 0.04216768220067024\n",
      "2600 0.03045358881354332\n",
      "2700 0.023665759712457657\n",
      "2800 0.019277628511190414\n",
      "2900 0.016223931685090065\n",
      "3000 0.013983718119561672\n",
      "3100 0.012273887172341347\n",
      "3200 0.010928073897957802\n",
      "3300 0.009842442348599434\n",
      "3400 0.008948973380029202\n",
      "3500 0.008201291784644127\n",
      "3600 0.0075667379423975945\n",
      "3700 0.007021641358733177\n",
      "3800 0.006548580713570118\n",
      "3900 0.006134208757430315\n",
      "4000 0.005768344737589359\n",
      "4100 0.0054430365562438965\n",
      "4200 0.005151890218257904\n",
      "4300 0.004889902658760548\n",
      "4400 0.0046528722159564495\n",
      "4500 0.004437457304447889\n",
      "4600 0.004240844398736954\n",
      "4700 0.004060687031596899\n",
      "4800 0.003895031288266182\n",
      "4900 0.0037421947345137596\n",
      "5000 0.0036007347516715527\n",
      "5100 0.003469479735940695\n",
      "5200 0.0033473046496510506\n",
      "5300 0.0032333829440176487\n",
      "5400 0.0031268750317394733\n",
      "5500 0.0030270610004663467\n",
      "5600 0.002933340147137642\n",
      "5700 0.0028452035039663315\n",
      "5800 0.002762140706181526\n",
      "5900 0.002683777129277587\n",
      "6000 0.0026096487417817116\n",
      "6100 0.0025394847616553307\n",
      "6200 0.0024729417636990547\n",
      "6300 0.0024097643326967955\n",
      "6400 0.0023497282527387142\n",
      "6500 0.0022925634402781725\n",
      "6600 0.002238075714558363\n",
      "6700 0.002186085097491741\n",
      "6800 0.0021364721469581127\n",
      "6900 0.002089011948555708\n",
      "7000 0.00204361486248672\n",
      "7100 0.0020001311786472797\n",
      "7200 0.001958396751433611\n",
      "7300 0.0019184107659384608\n",
      "7400 0.0018799942918121815\n",
      "7500 0.0018430722411721945\n",
      "7600 0.0018075549742206931\n",
      "7700 0.0017733527347445488\n",
      "7800 0.0017404207028448582\n",
      "7900 0.0017087137093767524\n",
      "8000 0.001678097527474165\n",
      "8100 0.0016485571395605803\n",
      "8200 0.001620002556592226\n",
      "8300 0.0015924491453915834\n",
      "8400 0.0015657918993383646\n",
      "8500 0.0015400308184325695\n",
      "8600 0.0015150614781305194\n",
      "8700 0.0014909137971699238\n",
      "8800 0.0014674977865070105\n",
      "8900 0.001444813678972423\n",
      "9000 0.0014228165382519364\n",
      "9100 0.0014014765620231628\n",
      "9200 0.0013806892093271017\n",
      "9300 0.0013606036081910133\n",
      "9400 0.0013410557294264436\n",
      "9500 0.001322030322626233\n",
      "9600 0.001303557539358735\n",
      "9700 0.001285637030377984\n",
      "9800 0.0012681199004873633\n",
      "9900 0.0012511102249845862\n",
      "10000 0.0012345188297331333\n"
     ]
    }
   ],
   "source": [
    "for step in range(10001):\n",
    "    optimizer.zero_grad()\n",
    "    hypothesis = model(X)\n",
    "\n",
    "    # cost/loss function\n",
    "    cost = criterion(hypothesis, Y)\n",
    "    cost.backward()\n",
    "    optimizer.step()\n",
    "\n",
    "    if step % 100 == 0:\n",
    "        print(step, cost.item())"
   ]
  },
  {
   "cell_type": "code",
   "execution_count": 35,
   "metadata": {},
   "outputs": [
    {
     "name": "stdout",
     "output_type": "stream",
     "text": [
      "\n",
      "Hypothesis:  [[0.00151766]\n",
      " [0.9988372 ]\n",
      " [0.9988397 ]\n",
      " [0.00134214]] \n",
      "Correct:  [[0.]\n",
      " [1.]\n",
      " [1.]\n",
      " [0.]] \n",
      "Accuracy:  1.0\n"
     ]
    }
   ],
   "source": [
    "# Accuracy computation\n",
    "# True if hypothesis>0.5 else False\n",
    "with torch.no_grad():\n",
    "    hypothesis = model(X)\n",
    "    predicted = (hypothesis > 0.5).float()\n",
    "    accuracy = (predicted == Y).float().mean()\n",
    "    print('\\nHypothesis: ', hypothesis.detach().cpu().numpy(), '\\nCorrect: ', predicted.detach().cpu().numpy(), '\\nAccuracy: ', accuracy.item())"
   ]
  },
  {
   "cell_type": "markdown",
   "metadata": {},
   "source": [
    "지난번과 다르게 loss가 계속 감소하는 양상을 확인할 수 있고, 입력에 따라 XOR 게이트에 맞게 잘 출력된다."
   ]
  },
  {
   "cell_type": "markdown",
   "metadata": {},
   "source": [
    "# Code: xor-nn-wide-deep"
   ]
  },
  {
   "cell_type": "markdown",
   "metadata": {},
   "source": [
    "이전 2개의 레이어에 2개를 더 쌓아서 총 4개짜리 Multilayer Perception을 만들어서 학습을 진행한다."
   ]
  },
  {
   "cell_type": "code",
   "execution_count": 57,
   "metadata": {},
   "outputs": [],
   "source": [
    "import torch"
   ]
  },
  {
   "cell_type": "code",
   "execution_count": 58,
   "metadata": {},
   "outputs": [],
   "source": [
    "device = 'cuda' if torch.cuda.is_available() else 'cpu'\n",
    "\n",
    "# for reproducibility\n",
    "torch.manual_seed(777)\n",
    "if device == 'cuda':\n",
    "    torch.cuda.manual_seed_all(777)"
   ]
  },
  {
   "cell_type": "code",
   "execution_count": 59,
   "metadata": {},
   "outputs": [],
   "source": [
    "X = torch.FloatTensor([[0, 0], [0, 1], [1, 0], [1, 1]]).to(device)\n",
    "Y = torch.FloatTensor([[0], [1], [1], [0]]).to(device)"
   ]
  },
  {
   "cell_type": "code",
   "execution_count": 60,
   "metadata": {},
   "outputs": [],
   "source": [
    "# nn layers\n",
    "linear1 = torch.nn.Linear(2, 10, bias=True)\n",
    "linear2 = torch.nn.Linear(10, 10, bias=True)\n",
    "linear3 = torch.nn.Linear(10, 10, bias=True)\n",
    "linear4 = torch.nn.Linear(10, 1, bias=True)\n",
    "sigmoid = torch.nn.Sigmoid()"
   ]
  },
  {
   "cell_type": "code",
   "execution_count": 61,
   "metadata": {},
   "outputs": [],
   "source": [
    "# model\n",
    "model = torch.nn.Sequential(linear1, sigmoid, linear2, sigmoid, linear3, sigmoid, linear4, sigmoid).to(device)"
   ]
  },
  {
   "cell_type": "code",
   "execution_count": 62,
   "metadata": {},
   "outputs": [],
   "source": [
    "# define cost/loss & optimizer\n",
    "criterion = torch.nn.BCELoss().to(device)\n",
    "optimizer = torch.optim.SGD(model.parameters(), lr=1)  # modified learning rate from 0.1 to 1"
   ]
  },
  {
   "cell_type": "code",
   "execution_count": 63,
   "metadata": {},
   "outputs": [
    {
     "name": "stdout",
     "output_type": "stream",
     "text": [
      "0 0.6948983669281006\n",
      "100 0.693155825138092\n",
      "200 0.6931535601615906\n",
      "300 0.6931513547897339\n",
      "400 0.6931493282318115\n",
      "500 0.6931473016738892\n",
      "600 0.6931453943252563\n",
      "700 0.6931435465812683\n",
      "800 0.6931416988372803\n",
      "900 0.6931397914886475\n",
      "1000 0.6931380033493042\n",
      "1100 0.6931361556053162\n",
      "1200 0.6931343078613281\n",
      "1300 0.6931324005126953\n",
      "1400 0.6931304931640625\n",
      "1500 0.6931284666061401\n",
      "1600 0.6931264400482178\n",
      "1700 0.6931242942810059\n",
      "1800 0.6931220293045044\n",
      "1900 0.6931197047233582\n",
      "2000 0.6931172013282776\n",
      "2100 0.6931144595146179\n",
      "2200 0.6931116580963135\n",
      "2300 0.6931084990501404\n",
      "2400 0.6931051015853882\n",
      "2500 0.6931014657020569\n",
      "2600 0.6930974721908569\n",
      "2700 0.6930930018424988\n",
      "2800 0.6930880546569824\n",
      "2900 0.6930825114250183\n",
      "3000 0.6930763721466064\n",
      "3100 0.6930692791938782\n",
      "3200 0.6930612325668335\n",
      "3300 0.6930518746376038\n",
      "3400 0.6930411458015442\n",
      "3500 0.6930283904075623\n",
      "3600 0.6930133104324341\n",
      "3700 0.6929951310157776\n",
      "3800 0.6929728984832764\n",
      "3900 0.6929453015327454\n",
      "4000 0.6929103136062622\n",
      "4100 0.6928648948669434\n",
      "4200 0.6928046941757202\n",
      "4300 0.692721962928772\n",
      "4400 0.692604124546051\n",
      "4500 0.692427933216095\n",
      "4600 0.692147970199585\n",
      "4700 0.6916665434837341\n",
      "4800 0.690739631652832\n",
      "4900 0.688620388507843\n",
      "5000 0.6820822358131409\n",
      "5100 0.6472558975219727\n",
      "5200 0.44960033893585205\n",
      "5300 0.04120307043194771\n",
      "5400 0.009722817689180374\n",
      "5500 0.0050316243432462215\n",
      "5600 0.00329543836414814\n",
      "5700 0.0024159494787454605\n",
      "5800 0.0018917799461632967\n",
      "5900 0.0015465017640963197\n",
      "6000 0.001303164754062891\n",
      "6100 0.0011230817763134837\n",
      "6200 0.00098479725420475\n",
      "6300 0.0008754964219406247\n",
      "6400 0.0007871013367548585\n",
      "6500 0.000714148220140487\n",
      "6600 0.0006530848331749439\n",
      "6700 0.0006011504447087646\n",
      "6800 0.0005565991159528494\n",
      "6900 0.0005179091240279377\n",
      "7000 0.000484021264128387\n",
      "7100 0.0004541448433883488\n",
      "7200 0.0004275788669474423\n",
      "7300 0.00040381622966378927\n",
      "7400 0.00038243926246650517\n",
      "7500 0.000363134837243706\n",
      "7600 0.00034563447115942836\n",
      "7700 0.0003296399663668126\n",
      "7800 0.0003150170377921313\n",
      "7900 0.0003015868132933974\n",
      "8000 0.00028917036252096295\n",
      "8100 0.00027773785404860973\n",
      "8200 0.0002671699330676347\n",
      "8300 0.00025731761706992984\n",
      "8400 0.0002481062838342041\n",
      "8500 0.00023952106130309403\n",
      "8600 0.0002315022866241634\n",
      "8700 0.00022394560801330954\n",
      "8800 0.00021689575805794448\n",
      "8900 0.0002102334692608565\n",
      "9000 0.00020395874162204564\n",
      "9100 0.00019802685710601509\n",
      "9200 0.0001924079842865467\n",
      "9300 0.0001871021231636405\n",
      "9400 0.00018206457025371492\n",
      "9500 0.00017728042439557612\n",
      "9600 0.00017273474077228457\n",
      "9700 0.00016841263277456164\n",
      "9800 0.00016431411495432258\n",
      "9900 0.00016037956811487675\n",
      "10000 0.0001566387654747814\n"
     ]
    }
   ],
   "source": [
    "for step in range(10001):\n",
    "    optimizer.zero_grad()\n",
    "    hypothesis = model(X)\n",
    "\n",
    "    # cost/loss function\n",
    "    cost = criterion(hypothesis, Y)\n",
    "    cost.backward()\n",
    "    optimizer.step()\n",
    "\n",
    "    if step % 100 == 0:\n",
    "        print(step, cost.item())"
   ]
  },
  {
   "cell_type": "code",
   "execution_count": 64,
   "metadata": {},
   "outputs": [
    {
     "name": "stdout",
     "output_type": "stream",
     "text": [
      "\n",
      "Hypothesis:  [[1.11760564e-04]\n",
      " [9.99828696e-01]\n",
      " [9.99842167e-01]\n",
      " [1.85418889e-04]] \n",
      "Correct:  [[0.]\n",
      " [1.]\n",
      " [1.]\n",
      " [0.]] \n",
      "Accuracy:  1.0\n"
     ]
    }
   ],
   "source": [
    "# Accuracy computation\n",
    "# True if hypothesis>0.5 else False\n",
    "with torch.no_grad():\n",
    "    hypothesis = model(X)\n",
    "    predicted = (hypothesis > 0.5).float()\n",
    "    accuracy = (predicted == Y).float().mean()\n",
    "    print('\\nHypothesis: ', hypothesis.detach().cpu().numpy(), '\\nCorrect: ', predicted.detach().cpu().numpy(), '\\nAccuracy: ', accuracy.item())"
   ]
  },
  {
   "cell_type": "markdown",
   "metadata": {},
   "source": [
    "2개짜리 layer보다 loss가 더 많이 줄어든 것을 확인할 수 있고, 이는 그만큼 더 많은 학습을 했다는 것을 의미한다."
   ]
  },
  {
   "cell_type": "code",
   "execution_count": null,
   "metadata": {},
   "outputs": [],
   "source": []
  }
 ],
 "metadata": {
  "kernelspec": {
   "display_name": "Python 3",
   "language": "python",
   "name": "python3"
  },
  "language_info": {
   "codemirror_mode": {
    "name": "ipython",
    "version": 3
   },
   "file_extension": ".py",
   "mimetype": "text/x-python",
   "name": "python",
   "nbconvert_exporter": "python",
   "pygments_lexer": "ipython3",
   "version": "3.7.6"
  }
 },
 "nbformat": 4,
 "nbformat_minor": 4
}
