{
  "nbformat": 4,
  "nbformat_minor": 0,
  "metadata": {
    "colab": {
      "name": "Lab-11-5 RNN seq2seq.ipynb",
      "provenance": []
    },
    "kernelspec": {
      "name": "python3",
      "display_name": "Python 3"
    }
  },
  "cells": [
    {
      "cell_type": "markdown",
      "metadata": {
        "id": "NRDgwSxM1c8_",
        "colab_type": "text"
      },
      "source": [
        "# **Lab-11-5 RNN seq2seq**\n",
        "\n",
        "sequence를 입력받고 sequence를 출력하는 model을 구현한다. seq2seq모델은 주로 번역이나 챗봇에 사용된다.\n",
        "\n",
        "## **Apply Seq2Seq : Encoder-Decoder**\n",
        "\n",
        "![](https://t1.daumcdn.net/cfile/tistory/24FA50335965BB032F)\n",
        "\n",
        "이 모델의 대표적인 특징은 encoder, decoder구조이다. encoder에서는 입력된 sequence를 어떤 vector의 형태로 압축하고, 이 vector를 decoder에 전달한다.\n",
        "\n",
        " decoder는 이 vector를 첫 cell의 hidden state에 넣어주고, 이 문장이 시작한다는 어떤 start flag와 함께 model을 시작한다.\n",
        "\n",
        " \"모든 문장을 들은 후 답변을 생성한다\"는 전제를 충분히 만족하는 model이다."
      ]
    },
    {
      "cell_type": "markdown",
      "metadata": {
        "id": "SXZi6wYppOoN",
        "colab_type": "text"
      },
      "source": [
        "## **Apply Seq2Seq : Data Preprocessing**"
      ]
    },
    {
      "cell_type": "code",
      "metadata": {
        "id": "ahYHZScapS9C",
        "colab_type": "code",
        "colab": {}
      },
      "source": [
        "import random\n",
        "import torch\n",
        "import torch.nn as nn\n",
        "import torch.optim as optim"
      ],
      "execution_count": 1,
      "outputs": []
    },
    {
      "cell_type": "code",
      "metadata": {
        "id": "DKbnhpU-popp",
        "colab_type": "code",
        "colab": {}
      },
      "source": [
        "torch.manual_seed(0)\n",
        "device = torch.device(\"cuda\" if torch.cuda.is_available() else \"cpu\")"
      ],
      "execution_count": 2,
      "outputs": []
    },
    {
      "cell_type": "code",
      "metadata": {
        "id": "hewqC77OpqGv",
        "colab_type": "code",
        "colab": {}
      },
      "source": [
        "raw = [\"I feel hungry.\t나는 배가 고프다.\",\n",
        "       \"Pytorch is very easy.\t파이토치는 매우 쉽다.\",\n",
        "       \"Pytorch is a framework for deep learning.\t파이토치는 딥러닝을 위한 프레임워크이다.\",\n",
        "       \"Pytorch is very clear to use.\t파이토치는 사용하기 매우 직관적이다.\"]"
      ],
      "execution_count": 3,
      "outputs": []
    },
    {
      "cell_type": "code",
      "metadata": {
        "id": "mngCi2wwpsod",
        "colab_type": "code",
        "colab": {}
      },
      "source": [
        "# fix token for \"start of sentence\" and \"end of sentence\"\n",
        "SOS_token = 0\n",
        "EOS_token = 1"
      ],
      "execution_count": 4,
      "outputs": []
    },
    {
      "cell_type": "code",
      "metadata": {
        "id": "_eJYUfy5pvlE",
        "colab_type": "code",
        "colab": {}
      },
      "source": [
        "# class for vocabulary related information of data\n",
        "class Vocab:\n",
        "    def __init__(self):\n",
        "        self.vocab2index = {\"<SOS>\": SOS_token, \"<EOS>\": EOS_token}\n",
        "        self.index2vocab = {SOS_token: \"<SOS>\", EOS_token: \"<EOS>\"}\n",
        "        self.vocab_count = {}\n",
        "        self.n_vocab = len(self.vocab2index)\n",
        "\n",
        "    def add_vocab(self, sentence):\n",
        "        for word in sentence.split(\" \"):\n",
        "            if word not in self.vocab2index:\n",
        "                self.vocab2index[word] = self.n_vocab\n",
        "                self.vocab_count[word] = 1\n",
        "                self.index2vocab[self.n_vocab] = word\n",
        "                self.n_vocab += 1\n",
        "            else:\n",
        "                self.vocab_count[word] += 1"
      ],
      "execution_count": 5,
      "outputs": []
    },
    {
      "cell_type": "code",
      "metadata": {
        "id": "EfCENQtzqZvd",
        "colab_type": "code",
        "colab": {}
      },
      "source": [
        "# filter out the long sentence from source and target data\n",
        "def filter_pair(pair, source_max_length, target_max_length):\n",
        "    return len(pair[0].split(\" \")) < source_max_length and len(pair[1].split(\" \")) < target_max_length"
      ],
      "execution_count": 6,
      "outputs": []
    },
    {
      "cell_type": "code",
      "metadata": {
        "id": "11l4Y5V6qaMD",
        "colab_type": "code",
        "colab": {}
      },
      "source": [
        "# read and preprocess the corpus data\n",
        "def preprocess(corpus, source_max_length, target_max_length):\n",
        "    print(\"reading corpus...\")\n",
        "    pairs = []\n",
        "    for line in corpus:\n",
        "        pairs.append([s for s in line.strip().lower().split(\"\\t\")])\n",
        "    print(\"Read {} sentence pairs\".format(len(pairs)))\n",
        "\n",
        "    pairs = [pair for pair in pairs if filter_pair(pair, source_max_length, target_max_length)]\n",
        "    print(\"Trimmed to {} sentence pairs\".format(len(pairs)))\n",
        "\n",
        "    source_vocab = Vocab()\n",
        "    target_vocab = Vocab()\n",
        "\n",
        "    print(\"Counting words...\")\n",
        "    for pair in pairs:\n",
        "        source_vocab.add_vocab(pair[0])\n",
        "        target_vocab.add_vocab(pair[1])\n",
        "    print(\"source vocab size =\", source_vocab.n_vocab)\n",
        "    print(\"target vocab size =\", target_vocab.n_vocab)\n",
        "\n",
        "    return pairs, source_vocab, target_vocab"
      ],
      "execution_count": 7,
      "outputs": []
    },
    {
      "cell_type": "markdown",
      "metadata": {
        "id": "HwvT4HLNqnV3",
        "colab_type": "text"
      },
      "source": [
        "## **Apply Seq2Seq : Neural Net Setting**"
      ]
    },
    {
      "cell_type": "code",
      "metadata": {
        "id": "qk7R4lhCqiCu",
        "colab_type": "code",
        "colab": {}
      },
      "source": [
        "# declare simple encoder\n",
        "class Encoder(nn.Module):\n",
        "    def __init__(self, input_size, hidden_size):\n",
        "        super(Encoder, self).__init__()\n",
        "        self.hidden_size = hidden_size\n",
        "        self.embedding = nn.Embedding(input_size, hidden_size)\n",
        "        self.gru = nn.GRU(hidden_size, hidden_size)\n",
        "\n",
        "    def forward(self, x, hidden):\n",
        "        x = self.embedding(x).view(1, 1, -1)\n",
        "        x, hidden = self.gru(x, hidden)\n",
        "        return x, hidden"
      ],
      "execution_count": 8,
      "outputs": []
    },
    {
      "cell_type": "markdown",
      "metadata": {
        "id": "l6y2ZlUXrgU7",
        "colab_type": "text"
      },
      "source": [
        "Embedding의 input_size는 source text 의 단어들의 one-hot encodding 버전이다. 이 input을 가지고 훨씬 적은 차원을 가지는, 즉 hidden size만큼의 vector로 줄이는 matrix 를 Embedding이라 한다.\n",
        "\n",
        "이 줄어든 vector가 gru를 통과하게 된다."
      ]
    },
    {
      "cell_type": "code",
      "metadata": {
        "id": "dVNEs0uSqu2K",
        "colab_type": "code",
        "colab": {}
      },
      "source": [
        "# declare simple decoder\n",
        "class Decoder(nn.Module):\n",
        "    def __init__(self, hidden_size, output_size):\n",
        "        super(Decoder, self).__init__()\n",
        "        self.hidden_size = hidden_size\n",
        "        self.embedding = nn.Embedding(output_size, hidden_size)\n",
        "        self.gru = nn.GRU(hidden_size, hidden_size)\n",
        "        self.out = nn.Linear(hidden_size, output_size)\n",
        "        self.softmax = nn.LogSoftmax(dim=1)\n",
        "\n",
        "    def forward(self, x, hidden):\n",
        "        x = self.embedding(x).view(1, 1, -1)\n",
        "        x, hidden = self.gru(x, hidden)\n",
        "        x = self.softmax(self.out(x[0]))\n",
        "        return x, hidden"
      ],
      "execution_count": 10,
      "outputs": []
    },
    {
      "cell_type": "markdown",
      "metadata": {
        "id": "oex94VOSsKae",
        "colab_type": "text"
      },
      "source": [
        "encoder와 다른 점은 out이 추가되었다는 것인데, linear matrix인 out이 필요한 이유는 아까의 줄어든 vector를 다시 target text의 단어로 복원하기 위함이다."
      ]
    },
    {
      "cell_type": "markdown",
      "metadata": {
        "id": "TZtN3gMQtCEo",
        "colab_type": "text"
      },
      "source": [
        "## **Apply Seq2Seq : Training**"
      ]
    },
    {
      "cell_type": "code",
      "metadata": {
        "id": "o8ikxQdrqwfH",
        "colab_type": "code",
        "colab": {}
      },
      "source": [
        "# convert sentence to the index tensor\n",
        "def tensorize(vocab, sentence):\n",
        "    indexes = [vocab.vocab2index[word] for word in sentence.split(\" \")]\n",
        "    indexes.append(vocab.vocab2index[\"<EOS>\"])\n",
        "    return torch.Tensor(indexes).long().to(device).view(-1, 1)"
      ],
      "execution_count": 11,
      "outputs": []
    },
    {
      "cell_type": "markdown",
      "metadata": {
        "id": "l4RzopA4tIIy",
        "colab_type": "text"
      },
      "source": [
        "tensorize는 sentence를 입력받아서 one-hot encoding으로 바꾸고 그 one-hot vector를 tensor로 바꿔주는 과정을 포함하고 있다."
      ]
    },
    {
      "cell_type": "code",
      "metadata": {
        "id": "S9_iVhbktHUY",
        "colab_type": "code",
        "colab": {}
      },
      "source": [
        "# training seq2seq\n",
        "def train(pairs, source_vocab, target_vocab, encoder, decoder, n_iter, print_every=1000, learning_rate=0.01):\n",
        "    loss_total = 0\n",
        "\n",
        "    encoder_optimizer = optim.SGD(encoder.parameters(), lr=learning_rate)\n",
        "    decoder_optimizer = optim.SGD(decoder.parameters(), lr=learning_rate)\n",
        "\n",
        "    training_batch = [random.choice(pairs) for _ in range(n_iter)]\n",
        "    training_source = [tensorize(source_vocab, pair[0]) for pair in training_batch]\n",
        "    training_target = [tensorize(target_vocab, pair[1]) for pair in training_batch]\n",
        "\n",
        "    criterion = nn.NLLLoss()\n",
        "\n",
        "    for i in range(1, n_iter + 1):\n",
        "        source_tensor = training_source[i - 1]\n",
        "        target_tensor = training_target[i - 1]\n",
        "\n",
        "        encoder_hidden = torch.zeros([1, 1, encoder.hidden_size]).to(device)\n",
        "\n",
        "        encoder_optimizer.zero_grad()\n",
        "        decoder_optimizer.zero_grad()\n",
        "\n",
        "        source_length = source_tensor.size(0)\n",
        "        target_length = target_tensor.size(0)\n",
        "\n",
        "        loss = 0\n",
        "\n",
        "        for enc_input in range(source_length):\n",
        "            _, encoder_hidden = encoder(source_tensor[enc_input], encoder_hidden)\n",
        "\n",
        "        decoder_input = torch.Tensor([[SOS_token]]).long().to(device)\n",
        "        decoder_hidden = encoder_hidden # connect encoder output to decoder input\n",
        "\n",
        "        for di in range(target_length):\n",
        "            decoder_output, decoder_hidden = decoder(decoder_input, decoder_hidden)\n",
        "            loss += criterion(decoder_output, target_tensor[di])\n",
        "            decoder_input = target_tensor[di]  # teacher forcing\n",
        "\n",
        "        loss.backward()\n",
        "\n",
        "        encoder_optimizer.step()\n",
        "        decoder_optimizer.step()\n",
        "\n",
        "        loss_iter = loss.item() / target_length\n",
        "        loss_total += loss_iter\n",
        "\n",
        "        if i % print_every == 0:\n",
        "            loss_avg = loss_total / print_every\n",
        "            loss_total = 0\n",
        "            print(\"[{} - {}%] loss = {:05.4f}\".format(i, i / n_iter * 100, loss_avg))"
      ],
      "execution_count": 12,
      "outputs": []
    },
    {
      "cell_type": "markdown",
      "metadata": {
        "id": "jBQ0yWOm13xa",
        "colab_type": "text"
      },
      "source": [
        "loss는 Negative Log Likelihood(NLL)라는 loss function을 사용한다. 최종적으로 출력으로 나오는 단어들이 원래의 단어와 얼마나 잘 맞는지를 category value들끼리 비교하게 되는데, 그때 사용하는 loss의 형태이다. (CrossEntropyLoss를 사용해도 무방하다.)\n",
        "\n",
        "encoder에 첫 번째로 들어가는 step에서의 input은 첫 문장의 첫 단어인데, 첫 gru에 들어가는 hidden state가 없기 때문에 torch.zeros를 이용하여 0 vector로 만들어서 넣는다.\n",
        "\n",
        "**<Teacher Forcing 훈련 방법>**\n",
        "\n",
        "teacher forcing이란, 훈련 시에는 디코더의 입력으로 이전 time-step의 디코더 출력값이 아닌, 정답 $Y$ 가 들어가는 방식이다. 하지만 추론할 때는 정답 $Y$ 를 모르기 때문에, 이전 time-step에서 계산되어 나온 $\\hat{y}_{t-1}$ 를 디코더의 입력으로 사용한다.\n",
        "\n",
        "![](https://gblobscdn.gitbook.com/assets%2F-LFzjkZt6ljMBd4YGVCn%2F-LX4NCwvtTXyg_vzXhF0%2F-LX4NFdMA7NCZp2QYb4z%2F10-05-01.png?alt=media)\n",
        "\n",
        "이 방법은 빨리 수렴한다는 장점이 있지만, 그 대신 network의 학습이 불안해 질 수 있다는 단점도 존재한다. 따라서 random함수를 걸어서 50%, 또는 30%의 확률로 teacher forcing을 하도록 설계할 수 있다."
      ]
    },
    {
      "cell_type": "code",
      "metadata": {
        "id": "9XDdEDyr1pgY",
        "colab_type": "code",
        "colab": {}
      },
      "source": [
        "# insert given sentence to check the training\n",
        "def evaluate(pairs, source_vocab, target_vocab, encoder, decoder, target_max_length):\n",
        "    for pair in pairs:\n",
        "        print(\">\", pair[0])\n",
        "        print(\"=\", pair[1])\n",
        "        source_tensor = tensorize(source_vocab, pair[0])\n",
        "        source_length = source_tensor.size()[0]\n",
        "        encoder_hidden = torch.zeros([1, 1, encoder.hidden_size]).to(device)\n",
        "\n",
        "        for ei in range(source_length):\n",
        "            _, encoder_hidden = encoder(source_tensor[ei], encoder_hidden)\n",
        "\n",
        "        decoder_input = torch.Tensor([[SOS_token]], device=device).long()\n",
        "        decoder_hidden = encoder_hidden\n",
        "        decoded_words = []\n",
        "\n",
        "        for di in range(target_max_length):\n",
        "            decoder_output, decoder_hidden = decoder(decoder_input, decoder_hidden)\n",
        "            _, top_index = decoder_output.data.topk(1)\n",
        "            if top_index.item() == EOS_token:\n",
        "                decoded_words.append(\"<EOS>\")\n",
        "                break\n",
        "            else:\n",
        "                decoded_words.append(target_vocab.index2vocab[top_index.item()])\n",
        "\n",
        "            decoder_input = top_index.squeeze().detach()\n",
        "\n",
        "        predict_words = decoded_words\n",
        "        predict_sentence = \" \".join(predict_words)\n",
        "        print(\"<\", predict_sentence)\n",
        "        print(\"\")"
      ],
      "execution_count": 13,
      "outputs": []
    },
    {
      "cell_type": "code",
      "metadata": {
        "id": "VF6gbCH05O8T",
        "colab_type": "code",
        "colab": {}
      },
      "source": [
        "# declare max length for sentence\n",
        "SOURCE_MAX_LENGTH = 10\n",
        "TARGET_MAX_LENGTH = 12"
      ],
      "execution_count": 14,
      "outputs": []
    },
    {
      "cell_type": "code",
      "metadata": {
        "id": "TYcFSNsH5SNK",
        "colab_type": "code",
        "colab": {
          "base_uri": "https://localhost:8080/",
          "height": 148
        },
        "outputId": "030e2639-a8c9-4068-bd9e-984a053a214e"
      },
      "source": [
        "# preprocess the corpus\n",
        "load_pairs, load_source_vocab, load_target_vocab = preprocess(raw, SOURCE_MAX_LENGTH, TARGET_MAX_LENGTH)\n",
        "print(random.choice(load_pairs))"
      ],
      "execution_count": 15,
      "outputs": [
        {
          "output_type": "stream",
          "text": [
            "reading corpus...\n",
            "Read 4 sentence pairs\n",
            "Trimmed to 4 sentence pairs\n",
            "Counting words...\n",
            "source vocab size = 17\n",
            "target vocab size = 13\n",
            "['pytorch is very clear to use.', '파이토치는 사용하기 매우 직관적이다.']\n"
          ],
          "name": "stdout"
        }
      ]
    },
    {
      "cell_type": "code",
      "metadata": {
        "id": "AbxMFyJx5VXe",
        "colab_type": "code",
        "colab": {}
      },
      "source": [
        "# declare the encoder and the decoder\n",
        "enc_hidden_size = 16\n",
        "dec_hidden_size = enc_hidden_size\n",
        "enc = Encoder(load_source_vocab.n_vocab, enc_hidden_size).to(device)\n",
        "dec = Decoder(dec_hidden_size, load_target_vocab.n_vocab).to(device)"
      ],
      "execution_count": 16,
      "outputs": []
    },
    {
      "cell_type": "code",
      "metadata": {
        "id": "HTkPv6Zs5YWZ",
        "colab_type": "code",
        "colab": {
          "base_uri": "https://localhost:8080/",
          "height": 111
        },
        "outputId": "2f07b400-ae34-43e6-de95-428a21ef31d2"
      },
      "source": [
        "# train seq2seq model\n",
        "train(load_pairs, load_source_vocab, load_target_vocab, enc, dec, 5000, print_every=1000)"
      ],
      "execution_count": 17,
      "outputs": [
        {
          "output_type": "stream",
          "text": [
            "[1000 - 20.0%] loss = 0.7342\n",
            "[2000 - 40.0%] loss = 0.1075\n",
            "[3000 - 60.0%] loss = 0.0336\n",
            "[4000 - 80.0%] loss = 0.0183\n",
            "[5000 - 100.0%] loss = 0.0124\n"
          ],
          "name": "stdout"
        }
      ]
    },
    {
      "cell_type": "code",
      "metadata": {
        "id": "YvL35RNv5dsC",
        "colab_type": "code",
        "colab": {
          "base_uri": "https://localhost:8080/",
          "height": 316
        },
        "outputId": "35b2d8f1-bb2e-4b2d-e878-2100861a2775"
      },
      "source": [
        "# check the model with given data\n",
        "evaluate(load_pairs, load_source_vocab, load_target_vocab, enc, dec, TARGET_MAX_LENGTH)"
      ],
      "execution_count": 18,
      "outputs": [
        {
          "output_type": "stream",
          "text": [
            "> i feel hungry.\n",
            "= 나는 배가 고프다.\n",
            "< 나는 배가 고프다. <EOS>\n",
            "\n",
            "> pytorch is very easy.\n",
            "= 파이토치는 매우 쉽다.\n",
            "< 파이토치는 매우 쉽다. <EOS>\n",
            "\n",
            "> pytorch is a framework for deep learning.\n",
            "= 파이토치는 딥러닝을 위한 프레임워크이다.\n",
            "< 파이토치는 딥러닝을 위한 프레임워크이다. <EOS>\n",
            "\n",
            "> pytorch is very clear to use.\n",
            "= 파이토치는 사용하기 매우 직관적이다.\n",
            "< 파이토치는 사용하기 매우 직관적이다. <EOS>\n",
            "\n"
          ],
          "name": "stdout"
        }
      ]
    },
    {
      "cell_type": "code",
      "metadata": {
        "id": "MOqw_8y05qJR",
        "colab_type": "code",
        "colab": {}
      },
      "source": [
        ""
      ],
      "execution_count": null,
      "outputs": []
    }
  ]
}