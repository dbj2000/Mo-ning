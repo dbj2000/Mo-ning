{
 "cells": [
  {
   "cell_type": "markdown",
   "metadata": {},
   "source": [
    "## Minibatch Gradient Descent<br>\n",
    "1. 목적 : 전체 데이터를 균일하게 나눠서 학습하도록 함<br> \n",
    "2. 장점 : 업데이트를 좀 더 빠르게 할 수 있다.<br>\n",
    "3. 단점 : 모델의 cost를 계산할 때 전체 데이터를 쓰지 않게 되므로 모델이 가끔 잘못된 방향으로 학습가능<br>-> 매끄럽게 cost줄어들지 않고 거칠게 감소"
   ]
  },
  {
   "cell_type": "markdown",
   "metadata": {},
   "source": [
    "## PyTorch Dataset"
   ]
  },
  {
   "cell_type": "code",
   "execution_count": 2,
   "metadata": {},
   "outputs": [],
   "source": [
    "import torch\n",
    "from torch.utils.data import Dataset\n",
    "\n",
    "class CustomDataset(Dataset):\n",
    "    def __init__(self):\n",
    "        self.x_data = [[73, 80, 75],\n",
    "                       [93, 88, 93],\n",
    "                       [89, 91, 90],\n",
    "                       [96, 98, 100],\n",
    "                       [73, 66, 70]]\n",
    "        self.y_data = [[152], [185], [180], [196], [142]]\n",
    "    \n",
    "    def __len__(self): ## 데이터셋의 총 데이터 수\n",
    "        return len(self.x_data)\n",
    "    \n",
    "    def __getitem__(self, idx): ## 인덱스 idx 받았을때 상응하는 입출력 데이터 반환\n",
    "        x = torch.FloatTensor(self.x_data[idx])\n",
    "        y = torch.FloatTensor(self.y_data[idx])\n",
    "        \n",
    "        return x, y\n",
    "    \n",
    "    \n",
    "dataset = CustomDataset()"
   ]
  },
  {
   "cell_type": "markdown",
   "metadata": {},
   "source": [
    "## PyTorch DataLoader"
   ]
  },
  {
   "cell_type": "code",
   "execution_count": 3,
   "metadata": {},
   "outputs": [],
   "source": [
    "from torch.utils.data import DataLoader\n",
    "\n",
    "dataloader = DataLoader(\n",
    "    dataset,\n",
    "    batch_size=2, ## 각 minibatch의 크기. 보통 2의 제곱수로 설정\n",
    "    shuffle=True, ## Epoch마다 데이터셋을 섞어서 데이터가 학습되는 순서를 바꾼다.\n",
    ")"
   ]
  },
  {
   "cell_type": "markdown",
   "metadata": {},
   "source": [
    "## Full Code with Dataset and DataLoader"
   ]
  },
  {
   "cell_type": "code",
   "execution_count": 4,
   "metadata": {},
   "outputs": [],
   "source": [
    "import torch.nn as nn\n",
    "import torch.nn.functional as F\n",
    "\n",
    "class MultivariateLinearRegressionModel(nn.Module):\n",
    "    def __init__(self):\n",
    "        super().__init__()\n",
    "        self.linear = nn.Linear(3, 1)\n",
    "        \n",
    "    def forward(self, x):\n",
    "        return self.linear(x)\n",
    "    \n",
    "# 모델 초기화\n",
    "model = MultivariateLinearRegressionModel()\n",
    "\n",
    "# optimizer 설정\n",
    "optimizer = torch.optim.SGD(model.parameters(), lr=1e-5)"
   ]
  },
  {
   "cell_type": "code",
   "execution_count": 5,
   "metadata": {},
   "outputs": [
    {
     "name": "stdout",
     "output_type": "stream",
     "text": [
      "Epoch    0/20 Batch 1/3 Cost: 30842.869141\n",
      "Epoch    0/20 Batch 2/3 Cost: 16052.613281\n",
      "Epoch    0/20 Batch 3/3 Cost: 1708.995972\n",
      "Epoch    1/20 Batch 1/3 Cost: 1346.030029\n",
      "Epoch    1/20 Batch 2/3 Cost: 390.327667\n",
      "Epoch    1/20 Batch 3/3 Cost: 92.762856\n",
      "Epoch    2/20 Batch 1/3 Cost: 33.945480\n",
      "Epoch    2/20 Batch 2/3 Cost: 32.349308\n",
      "Epoch    2/20 Batch 3/3 Cost: 47.363235\n",
      "Epoch    3/20 Batch 1/3 Cost: 13.792077\n",
      "Epoch    3/20 Batch 2/3 Cost: 12.887241\n",
      "Epoch    3/20 Batch 3/3 Cost: 22.764879\n",
      "Epoch    4/20 Batch 1/3 Cost: 13.414057\n",
      "Epoch    4/20 Batch 2/3 Cost: 6.839171\n",
      "Epoch    4/20 Batch 3/3 Cost: 31.838860\n",
      "Epoch    5/20 Batch 1/3 Cost: 15.115717\n",
      "Epoch    5/20 Batch 2/3 Cost: 10.100679\n",
      "Epoch    5/20 Batch 3/3 Cost: 24.029982\n",
      "Epoch    6/20 Batch 1/3 Cost: 5.310058\n",
      "Epoch    6/20 Batch 2/3 Cost: 21.074743\n",
      "Epoch    6/20 Batch 3/3 Cost: 25.562979\n",
      "Epoch    7/20 Batch 1/3 Cost: 9.618969\n",
      "Epoch    7/20 Batch 2/3 Cost: 10.256859\n",
      "Epoch    7/20 Batch 3/3 Cost: 30.993202\n",
      "Epoch    8/20 Batch 1/3 Cost: 0.646719\n",
      "Epoch    8/20 Batch 2/3 Cost: 22.218357\n",
      "Epoch    8/20 Batch 3/3 Cost: 23.839176\n",
      "Epoch    9/20 Batch 1/3 Cost: 13.007131\n",
      "Epoch    9/20 Batch 2/3 Cost: 6.738302\n",
      "Epoch    9/20 Batch 3/3 Cost: 30.788477\n",
      "Epoch   10/20 Batch 1/3 Cost: 7.201105\n",
      "Epoch   10/20 Batch 2/3 Cost: 18.635347\n",
      "Epoch   10/20 Batch 3/3 Cost: 24.301668\n",
      "Epoch   11/20 Batch 1/3 Cost: 10.218260\n",
      "Epoch   11/20 Batch 2/3 Cost: 19.372810\n",
      "Epoch   11/20 Batch 3/3 Cost: 9.321609\n",
      "Epoch   12/20 Batch 1/3 Cost: 18.184116\n",
      "Epoch   12/20 Batch 2/3 Cost: 2.095534\n",
      "Epoch   12/20 Batch 3/3 Cost: 29.724924\n",
      "Epoch   13/20 Batch 1/3 Cost: 6.719369\n",
      "Epoch   13/20 Batch 2/3 Cost: 20.407555\n",
      "Epoch   13/20 Batch 3/3 Cost: 27.990326\n",
      "Epoch   14/20 Batch 1/3 Cost: 22.196011\n",
      "Epoch   14/20 Batch 2/3 Cost: 6.879415\n",
      "Epoch   14/20 Batch 3/3 Cost: 10.135852\n",
      "Epoch   15/20 Batch 1/3 Cost: 14.309050\n",
      "Epoch   15/20 Batch 2/3 Cost: 17.649586\n",
      "Epoch   15/20 Batch 3/3 Cost: 1.525226\n",
      "Epoch   16/20 Batch 1/3 Cost: 11.378490\n",
      "Epoch   16/20 Batch 2/3 Cost: 11.406910\n",
      "Epoch   16/20 Batch 3/3 Cost: 31.037901\n",
      "Epoch   17/20 Batch 1/3 Cost: 12.606768\n",
      "Epoch   17/20 Batch 2/3 Cost: 16.185753\n",
      "Epoch   17/20 Batch 3/3 Cost: 21.468748\n",
      "Epoch   18/20 Batch 1/3 Cost: 8.671642\n",
      "Epoch   18/20 Batch 2/3 Cost: 32.022083\n",
      "Epoch   18/20 Batch 3/3 Cost: 5.925944\n",
      "Epoch   19/20 Batch 1/3 Cost: 0.797806\n",
      "Epoch   19/20 Batch 2/3 Cost: 29.293001\n",
      "Epoch   19/20 Batch 3/3 Cost: 28.844223\n",
      "Epoch   20/20 Batch 1/3 Cost: 15.319468\n",
      "Epoch   20/20 Batch 2/3 Cost: 17.508677\n",
      "Epoch   20/20 Batch 3/3 Cost: 4.677555\n"
     ]
    }
   ],
   "source": [
    "nb_epochs = 20\n",
    "for epoch in range(nb_epochs + 1):\n",
    "    for batch_idx, samples in enumerate(dataloader): # minbatch 인덱스와 데이터 받음\n",
    "        x_train, y_train = samples\n",
    "        # H(x) 계산\n",
    "        prediction = model(x_train)\n",
    "        \n",
    "        # cost 계산\n",
    "        cost = F.mse_loss(prediction, y_train)\n",
    "        \n",
    "        # cost로 H(x) 계산\n",
    "        optimizer.zero_grad()\n",
    "        cost.backward()\n",
    "        optimizer.step()\n",
    "        \n",
    "        print('Epoch {:4d}/{} Batch {}/{} Cost: {:.6f}'.format(\n",
    "            epoch, nb_epochs, batch_idx+1, len(dataloader),# 한 epoch당 minibatch 개수\n",
    "            cost.item()\n",
    "        ))\n",
    "        "
   ]
  },
  {
   "cell_type": "code",
   "execution_count": null,
   "metadata": {},
   "outputs": [],
   "source": []
  }
 ],
 "metadata": {
  "kernelspec": {
   "display_name": "Python 3",
   "language": "python",
   "name": "python3"
  },
  "language_info": {
   "codemirror_mode": {
    "name": "ipython",
    "version": 3
   },
   "file_extension": ".py",
   "mimetype": "text/x-python",
   "name": "python",
   "nbconvert_exporter": "python",
   "pygments_lexer": "ipython3",
   "version": "3.7.6"
  }
 },
 "nbformat": 4,
 "nbformat_minor": 4
}
