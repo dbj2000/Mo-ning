{
  "nbformat": 4,
  "nbformat_minor": 0,
  "metadata": {
    "colab": {
      "name": "Lab-10-4 Image Folder.ipynb",
      "provenance": [],
      "collapsed_sections": []
    },
    "kernelspec": {
      "name": "python3",
      "display_name": "Python 3"
    },
    "widgets": {
      "application/vnd.jupyter.widget-state+json": {
        "dfc1d76e3dc14664b9a70a07f74f35c6": {
          "model_module": "@jupyter-widgets/controls",
          "model_name": "HBoxModel",
          "state": {
            "_view_name": "HBoxView",
            "_dom_classes": [],
            "_model_name": "HBoxModel",
            "_view_module": "@jupyter-widgets/controls",
            "_model_module_version": "1.5.0",
            "_view_count": null,
            "_view_module_version": "1.5.0",
            "box_style": "",
            "layout": "IPY_MODEL_32963b21b2654b83877cb97a281cac38",
            "_model_module": "@jupyter-widgets/controls",
            "children": [
              "IPY_MODEL_5ac58c65fb0346d480c01b0ebbe44fdc",
              "IPY_MODEL_3a9ecb13c143466f922055232cc0c3a8"
            ]
          }
        },
        "32963b21b2654b83877cb97a281cac38": {
          "model_module": "@jupyter-widgets/base",
          "model_name": "LayoutModel",
          "state": {
            "_view_name": "LayoutView",
            "grid_template_rows": null,
            "right": null,
            "justify_content": null,
            "_view_module": "@jupyter-widgets/base",
            "overflow": null,
            "_model_module_version": "1.2.0",
            "_view_count": null,
            "flex_flow": null,
            "width": null,
            "min_width": null,
            "border": null,
            "align_items": null,
            "bottom": null,
            "_model_module": "@jupyter-widgets/base",
            "top": null,
            "grid_column": null,
            "overflow_y": null,
            "overflow_x": null,
            "grid_auto_flow": null,
            "grid_area": null,
            "grid_template_columns": null,
            "flex": null,
            "_model_name": "LayoutModel",
            "justify_items": null,
            "grid_row": null,
            "max_height": null,
            "align_content": null,
            "visibility": null,
            "align_self": null,
            "height": null,
            "min_height": null,
            "padding": null,
            "grid_auto_rows": null,
            "grid_gap": null,
            "max_width": null,
            "order": null,
            "_view_module_version": "1.2.0",
            "grid_template_areas": null,
            "object_position": null,
            "object_fit": null,
            "grid_auto_columns": null,
            "margin": null,
            "display": null,
            "left": null
          }
        },
        "5ac58c65fb0346d480c01b0ebbe44fdc": {
          "model_module": "@jupyter-widgets/controls",
          "model_name": "FloatProgressModel",
          "state": {
            "_view_name": "ProgressView",
            "style": "IPY_MODEL_07d5a240b4ea4ae5a3365653754c39c3",
            "_dom_classes": [],
            "description": "",
            "_model_name": "FloatProgressModel",
            "bar_style": "info",
            "max": 1,
            "_view_module": "@jupyter-widgets/controls",
            "_model_module_version": "1.5.0",
            "value": 1,
            "_view_count": null,
            "_view_module_version": "1.5.0",
            "orientation": "horizontal",
            "min": 0,
            "description_tooltip": null,
            "_model_module": "@jupyter-widgets/controls",
            "layout": "IPY_MODEL_ffca654ac4904834b1e12621b0a67c36"
          }
        },
        "3a9ecb13c143466f922055232cc0c3a8": {
          "model_module": "@jupyter-widgets/controls",
          "model_name": "HTMLModel",
          "state": {
            "_view_name": "HTMLView",
            "style": "IPY_MODEL_3daba290ee3442798d7335d9ade49e46",
            "_dom_classes": [],
            "description": "",
            "_model_name": "HTMLModel",
            "placeholder": "​",
            "_view_module": "@jupyter-widgets/controls",
            "_model_module_version": "1.5.0",
            "value": " 170500096/? [00:19&lt;00:00, 81886956.81it/s]",
            "_view_count": null,
            "_view_module_version": "1.5.0",
            "description_tooltip": null,
            "_model_module": "@jupyter-widgets/controls",
            "layout": "IPY_MODEL_e1e322472fa44dff9cf7b28b150477fd"
          }
        },
        "07d5a240b4ea4ae5a3365653754c39c3": {
          "model_module": "@jupyter-widgets/controls",
          "model_name": "ProgressStyleModel",
          "state": {
            "_view_name": "StyleView",
            "_model_name": "ProgressStyleModel",
            "description_width": "initial",
            "_view_module": "@jupyter-widgets/base",
            "_model_module_version": "1.5.0",
            "_view_count": null,
            "_view_module_version": "1.2.0",
            "bar_color": null,
            "_model_module": "@jupyter-widgets/controls"
          }
        },
        "ffca654ac4904834b1e12621b0a67c36": {
          "model_module": "@jupyter-widgets/base",
          "model_name": "LayoutModel",
          "state": {
            "_view_name": "LayoutView",
            "grid_template_rows": null,
            "right": null,
            "justify_content": null,
            "_view_module": "@jupyter-widgets/base",
            "overflow": null,
            "_model_module_version": "1.2.0",
            "_view_count": null,
            "flex_flow": null,
            "width": null,
            "min_width": null,
            "border": null,
            "align_items": null,
            "bottom": null,
            "_model_module": "@jupyter-widgets/base",
            "top": null,
            "grid_column": null,
            "overflow_y": null,
            "overflow_x": null,
            "grid_auto_flow": null,
            "grid_area": null,
            "grid_template_columns": null,
            "flex": null,
            "_model_name": "LayoutModel",
            "justify_items": null,
            "grid_row": null,
            "max_height": null,
            "align_content": null,
            "visibility": null,
            "align_self": null,
            "height": null,
            "min_height": null,
            "padding": null,
            "grid_auto_rows": null,
            "grid_gap": null,
            "max_width": null,
            "order": null,
            "_view_module_version": "1.2.0",
            "grid_template_areas": null,
            "object_position": null,
            "object_fit": null,
            "grid_auto_columns": null,
            "margin": null,
            "display": null,
            "left": null
          }
        },
        "3daba290ee3442798d7335d9ade49e46": {
          "model_module": "@jupyter-widgets/controls",
          "model_name": "DescriptionStyleModel",
          "state": {
            "_view_name": "StyleView",
            "_model_name": "DescriptionStyleModel",
            "description_width": "",
            "_view_module": "@jupyter-widgets/base",
            "_model_module_version": "1.5.0",
            "_view_count": null,
            "_view_module_version": "1.2.0",
            "_model_module": "@jupyter-widgets/controls"
          }
        },
        "e1e322472fa44dff9cf7b28b150477fd": {
          "model_module": "@jupyter-widgets/base",
          "model_name": "LayoutModel",
          "state": {
            "_view_name": "LayoutView",
            "grid_template_rows": null,
            "right": null,
            "justify_content": null,
            "_view_module": "@jupyter-widgets/base",
            "overflow": null,
            "_model_module_version": "1.2.0",
            "_view_count": null,
            "flex_flow": null,
            "width": null,
            "min_width": null,
            "border": null,
            "align_items": null,
            "bottom": null,
            "_model_module": "@jupyter-widgets/base",
            "top": null,
            "grid_column": null,
            "overflow_y": null,
            "overflow_x": null,
            "grid_auto_flow": null,
            "grid_area": null,
            "grid_template_columns": null,
            "flex": null,
            "_model_name": "LayoutModel",
            "justify_items": null,
            "grid_row": null,
            "max_height": null,
            "align_content": null,
            "visibility": null,
            "align_self": null,
            "height": null,
            "min_height": null,
            "padding": null,
            "grid_auto_rows": null,
            "grid_gap": null,
            "max_width": null,
            "order": null,
            "_view_module_version": "1.2.0",
            "grid_template_areas": null,
            "object_position": null,
            "object_fit": null,
            "grid_auto_columns": null,
            "margin": null,
            "display": null,
            "left": null
          }
        }
      }
    }
  },
  "cells": [
    {
      "cell_type": "markdown",
      "metadata": {
        "id": "OzAYq-XXoB4B",
        "colab_type": "text"
      },
      "source": [
        "# **Lab-10-4-1 Image Folder**\n",
        "\n",
        "PyTorch에서는 **ImageFolder**라는 라이브러리를 제공한다. 이는 다음과 같은 <u>계층적인 폴더 구조를 가지고 있는 데이터셋을 불러올 때 사용</u>할 수 있다. \n",
        "\n",
        "다시 말해 다음과 같이 각 이미지들이 자신의 레이블(Label) 이름으로 된 폴더 안에 들어가 있는 구조라면, ImageFolder 라이브러리를 이용하여 이를 바로 불러와 객체로 만들면 된다.\n",
        "\n",
        "\tdataset/\n",
        "           0/\n",
        "\t\t          0.jpg\n",
        "\t          \t1.jpg\n",
        "              ...\n",
        "           1/\n",
        "              0.jpg\n",
        "              1.jpg\n",
        "              ...\n",
        "           ...\n",
        "           9/\n",
        "              0.jpg\n",
        "              1.jpg\n",
        "              ...\n",
        "## Practice \t\n",
        "1. 기존에 존재하는 CIFAR-10 데이터셋을 불러온다.\n",
        "2. 이를 계층적인 폴더 구조가 되도록 이미지를 저장한다.\n",
        "3. 그 다음에 다시 ImageFolder 라이브러리로 동일한 CIFAR-10 데이터셋을 불러온다.\n",
        "\n"
      ]
    },
    {
      "cell_type": "code",
      "metadata": {
        "id": "uCiCM7MMpt7S",
        "colab_type": "code",
        "colab": {}
      },
      "source": [
        "import torch\n",
        "import torch.nn as nn\n",
        "import torch.nn.functional as F\n",
        "\n",
        "import torch.optim as optim\n",
        "from torch.utils.data import DataLoader\n",
        "\n",
        "import torchvision\n",
        "import torchvision.transforms as transforms\n",
        "import matplotlib.pyplot as plt\n",
        "import matplotlib.image as image\n",
        "import numpy as np"
      ],
      "execution_count": 0,
      "outputs": []
    },
    {
      "cell_type": "code",
      "metadata": {
        "id": "b1giwHphp4nh",
        "colab_type": "code",
        "outputId": "0e0a94ee-ac8a-422d-a980-56d6fd64984b",
        "colab": {
          "base_uri": "https://localhost:8080/",
          "height": 320,
          "referenced_widgets": [
            "dfc1d76e3dc14664b9a70a07f74f35c6",
            "32963b21b2654b83877cb97a281cac38",
            "5ac58c65fb0346d480c01b0ebbe44fdc",
            "3a9ecb13c143466f922055232cc0c3a8",
            "07d5a240b4ea4ae5a3365653754c39c3",
            "ffca654ac4904834b1e12621b0a67c36",
            "3daba290ee3442798d7335d9ade49e46",
            "e1e322472fa44dff9cf7b28b150477fd"
          ]
        }
      },
      "source": [
        "transform = transforms.Compose([transforms.ToTensor()])\n",
        "train_dataset = torchvision.datasets.CIFAR10(root='./data', train=True, download=True, transform=transform)\n",
        "train_loader = torch.utils.data.DataLoader(train_dataset, batch_size=4, shuffle=True, num_workers=2)\n",
        "test_dataset = torchvision.datasets.CIFAR10(root='./data', train=False,\n",
        "                                       download=True, transform=transform)\n",
        "test_loader = torch.utils.data.DataLoader(testset, batch_size=4,\n",
        "                                         shuffle=False, num_workers=2)"
      ],
      "execution_count": 3,
      "outputs": [
        {
          "output_type": "stream",
          "text": [
            "Downloading https://www.cs.toronto.edu/~kriz/cifar-10-python.tar.gz to ./data/cifar-10-python.tar.gz\n"
          ],
          "name": "stdout"
        },
        {
          "output_type": "display_data",
          "data": {
            "application/vnd.jupyter.widget-view+json": {
              "model_id": "dfc1d76e3dc14664b9a70a07f74f35c6",
              "version_minor": 0,
              "version_major": 2
            },
            "text/plain": [
              "HBox(children=(FloatProgress(value=1.0, bar_style='info', max=1.0), HTML(value='')))"
            ]
          },
          "metadata": {
            "tags": []
          }
        },
        {
          "output_type": "stream",
          "text": [
            "Extracting ./data/cifar-10-python.tar.gz to ./data\n",
            "Files already downloaded and verified\n"
          ],
          "name": "stdout"
        },
        {
          "output_type": "error",
          "ename": "NameError",
          "evalue": "ignored",
          "traceback": [
            "\u001b[0;31m---------------------------------------------------------------------------\u001b[0m",
            "\u001b[0;31mNameError\u001b[0m                                 Traceback (most recent call last)",
            "\u001b[0;32m<ipython-input-3-feb67c3e0d40>\u001b[0m in \u001b[0;36m<module>\u001b[0;34m()\u001b[0m\n\u001b[1;32m      4\u001b[0m test_dataset = torchvision.datasets.CIFAR10(root='./data', train=False,\n\u001b[1;32m      5\u001b[0m                                        download=True, transform=transform)\n\u001b[0;32m----> 6\u001b[0;31m test_loader = torch.utils.data.DataLoader(testset, batch_size=4,\n\u001b[0m\u001b[1;32m      7\u001b[0m                                          shuffle=False, num_workers=2)\n",
            "\u001b[0;31mNameError\u001b[0m: name 'testset' is not defined"
          ]
        }
      ]
    },
    {
      "cell_type": "markdown",
      "metadata": {
        "id": "WtJXtOF1qb8G",
        "colab_type": "text"
      },
      "source": [
        "CIFAR-10의 경우 10개의 레이블로 구성된 데이터셋이므로, 각 레이블의 이미지가 몇 번 등장했는지를 기록해주는 변수를 선언한다."
      ]
    },
    {
      "cell_type": "code",
      "metadata": {
        "id": "Js_3Yoyuql6H",
        "colab_type": "code",
        "colab": {}
      },
      "source": [
        "# os 모듈\n",
        "# 파일을 복사하거나 디렉터리를 생성하고 특정 디렉터리 내의 파일 목록을 구하고자 할 때 사용\n",
        "import os \n",
        "\n",
        "classes = ('plane', 'car', 'bird', 'cat',\n",
        "           'deer', 'dog', 'frog', 'horse', 'ship', 'truck')\n",
        "num_classes = 10\n",
        "number_per_class = {}\n",
        "\n",
        "for i in range(num_classes):\n",
        "  number_per_class[i]=0"
      ],
      "execution_count": 0,
      "outputs": []
    },
    {
      "cell_type": "markdown",
      "metadata": {
        "id": "CAfq3UHjrZoz",
        "colab_type": "text"
      },
      "source": [
        "이후에 **이미지 Torch 객체**와 **레이블 정수 값**이 들어왔을 때, 이를 실제 폴더에 저장해주는 함수를 작성한다."
      ]
    },
    {
      "cell_type": "code",
      "metadata": {
        "id": "26_eGMuErdly",
        "colab_type": "code",
        "colab": {}
      },
      "source": [
        "def custom_imsave(img, label):\n",
        "  path = 'dataset/' + str(label) + '/'\n",
        "  if not os.path.exists(path): # 경로가 없으면 만든다\n",
        "    os.makedirs(path)\n",
        "\n",
        "  img = img.numpy()\n",
        "  img = np.transpose(img, (1, 2, 0))\n",
        "  image.imsave(path + str(number_per_class[label])+ '.jpg', img)\n",
        "  number_per_class[label] += 1"
      ],
      "execution_count": 0,
      "outputs": []
    },
    {
      "cell_type": "markdown",
      "metadata": {
        "id": "8eVpiyYpseUf",
        "colab_type": "text"
      },
      "source": [
        "  이제 만들어진 도구들을 이용하여 CIFAR-10 데이터셋에서 데이터를 배치 단위로 읽으며, 배치에 포함된 각 이미지를 하나씩 정확한 폴더에 저장될 수 있도록 한다."
      ]
    },
    {
      "cell_type": "code",
      "metadata": {
        "id": "telmPCp4shFb",
        "colab_type": "code",
        "colab": {}
      },
      "source": [
        "def process():\n",
        "  for batch_idx, (inputs, targets) in enumerate(train_loader):\n",
        "    for i in range(inputs. size(0)):\n",
        "      custom_imsave(inputs[i], targets[i].item())\n",
        "\n",
        "process()"
      ],
      "execution_count": 0,
      "outputs": []
    },
    {
      "cell_type": "markdown",
      "metadata": {
        "id": "4kjDSWQbt7Lz",
        "colab_type": "text"
      },
      "source": [
        "이후에 한 번 0번 레이블(비행기)의 첫 번째 이미지를 출력하도록 해보자. 정상적으로 잘 출력된다."
      ]
    },
    {
      "cell_type": "code",
      "metadata": {
        "id": "sDm0zONBt8ye",
        "colab_type": "code",
        "outputId": "d36b6b00-a67a-4378-8064-0988ded2e30c",
        "colab": {
          "base_uri": "https://localhost:8080/",
          "height": 285
        }
      },
      "source": [
        "from PIL import Image\n",
        "from matplotlib.pyplot import imshow\n",
        "\n",
        "# 0번 레이블의 첫번째 이미지를 출력해본다\n",
        "# 0번 레이블은 모두 비행기이다\n",
        "img = Image.open('dataset/0/0.jpg')\n",
        "imshow(np.asarray(img))"
      ],
      "execution_count": 0,
      "outputs": [
        {
          "output_type": "execute_result",
          "data": {
            "text/plain": [
              "<matplotlib.image.AxesImage at 0x7ff3c738dc88>"
            ]
          },
          "metadata": {
            "tags": []
          },
          "execution_count": 241
        },
        {
          "output_type": "display_data",
          "data": {
            "image/png": "[encoded data removed]",
            "text/plain": [
              "<Figure size 432x288 with 1 Axes>"
            ]
          },
          "metadata": {
            "tags": [],
            "needs_background": "light"
          }
        }
      ]
    },
    {
      "cell_type": "markdown",
      "metadata": {
        "id": "CiQfqReWuU_k",
        "colab_type": "text"
      },
      "source": [
        "이제 **ImageFolder** 라이브러리를 이용해서, 우리가 <u>저장한 이미지들을 이용해 다시 PyTorch 데이터셋 객체로 불러올 수 있는지 확인</u>해보도록 하자."
      ]
    },
    {
      "cell_type": "code",
      "metadata": {
        "id": "WUtSGpLNucgX",
        "colab_type": "code",
        "colab": {}
      },
      "source": [
        "from torchvision.datasets import ImageFolder\n",
        "\n",
        "train_dataset = ImageFolder(root='./dataset', transform=transform_train)\n",
        "train_loader = DataLoader(train_dataset, batch_size=4, shuffle=True, num_workers=2)"
      ],
      "execution_count": 0,
      "outputs": []
    },
    {
      "cell_type": "markdown",
      "metadata": {
        "id": "D_hvJ25Iu1AW",
        "colab_type": "text"
      },
      "source": [
        "이미지 출력용 함수는 다음과 같다. PyTorch의 경우 **[Batch Size, Channel, Width, Height]**의 구조를 가지고 있어서, 이를 matplotlib로 출력하기 위해서는 **[Width, Height, Channel]**의 순서로 변경해주어야 한다."
      ]
    },
    {
      "cell_type": "code",
      "metadata": {
        "id": "P_yfRzvqu9d0",
        "colab_type": "code",
        "colab": {}
      },
      "source": [
        "def custom_imshow(img):\n",
        "  img = img.numpy()\n",
        "  # 만약 배열 b의 shape(2, 3, 4) => shape (4, 3, 2)로 바꾸고싶다면\n",
        "  # np.transpose(b, (2, 1, 0))\n",
        "  plt.imshow(np.transpose(img, (1, 2, 0)))\n",
        "  plt.show()"
      ],
      "execution_count": 0,
      "outputs": []
    },
    {
      "cell_type": "code",
      "metadata": {
        "id": "R1LUiquZvMJE",
        "colab_type": "code",
        "outputId": "74d42a93-69d3-4b94-a07b-86c2df7da137",
        "colab": {
          "base_uri": "https://localhost:8080/",
          "height": 157
        }
      },
      "source": [
        "def process(x):\n",
        "  # 학습용 이미지를 무작위로 가져오기\n",
        "  dataiter = iter(x)\n",
        "  images, labels = dataiter.next()\n",
        "  # 이미지 보여주기\n",
        "  custom_imshow(torchvision.utils.make_grid(images))\n",
        "  print(' '.join('%5s' % classes[labels[j]] for j in range(4)))\n",
        "\n",
        "process(train_loader)\n"
      ],
      "execution_count": 0,
      "outputs": [
        {
          "output_type": "display_data",
          "data": {
            "image/png": "[encoded data removed]",
            "text/plain": [
              "<Figure size 432x288 with 1 Axes>"
            ]
          },
          "metadata": {
            "tags": [],
            "needs_background": "light"
          }
        },
        {
          "output_type": "stream",
          "text": [
            " frog   car  frog truck\n"
          ],
          "name": "stdout"
        }
      ]
    },
    {
      "cell_type": "markdown",
      "metadata": {
        "id": "Kd_4_DplzOPY",
        "colab_type": "text"
      },
      "source": [
        "# **Lab-10-4-2 ImageFolder(2)**\n",
        "\n",
        "앞서 저장한 CIFAR10 이미지를 CNN으로 학습시켜보고자 한다."
      ]
    },
    {
      "cell_type": "code",
      "metadata": {
        "id": "Jh8sERngtVUs",
        "colab_type": "code",
        "colab": {}
      },
      "source": [
        "device = 'cuda' if torch.cuda.is_available() else 'cpu'\n",
        "\n",
        "torch.manual_seed(777)\n",
        "if device == 'cuda':\n",
        "  torch.cuda.manual_seed_all(777)"
      ],
      "execution_count": 0,
      "outputs": []
    },
    {
      "cell_type": "code",
      "metadata": {
        "id": "G5iNEBTJttkn",
        "colab_type": "code",
        "colab": {}
      },
      "source": [
        "class CNN(nn.Module):\n",
        "  def __init__(self):\n",
        "    super(CNN, self).__init__()\n",
        "    self.layer1 = nn.Sequential(\n",
        "        nn.Conv2d(3, 6, 5), # in_channel , out_channel, filter_size, stride와 padding은 default 1과 0\n",
        "        nn.ReLU(),\n",
        "        nn.MaxPool2d(2)\n",
        "    )\n",
        "    self.layer2 = nn.Sequential(\n",
        "        nn.Conv2d(6, 16, 5), # 위의 out_channel값이 여기서 in_channel\n",
        "        nn.ReLU(),\n",
        "        nn.MaxPool2d(2)\n",
        "    )\n",
        "    self.layer3 = nn.Sequential(\n",
        "        # fully connected 2번진행\n",
        "        nn.Linear(16*5*5, 120),\n",
        "        nn.ReLU(),\n",
        "        nn.Linear(120, 84),\n",
        "        nn.Linear(84, 10)\n",
        "    )\n",
        "\n",
        "  def forward(self, x):\n",
        "    out = self.layer1(x)\n",
        "    # 테스트할때 그때그때 출력하고나서 지울것!\n",
        "    #print(out.shape) \n",
        "    out = self.layer2(out)\n",
        "    #print(out.shape)\n",
        "    out = out.view(out.shape[0], -1)\n",
        "    #print(out.shape)\n",
        "    out = self.layer3(out)\n",
        "    return out"
      ],
      "execution_count": 0,
      "outputs": []
    },
    {
      "cell_type": "code",
      "metadata": {
        "id": "mCcYyHxEvVd_",
        "colab_type": "code",
        "colab": {}
      },
      "source": [
        "# testing (각 layer를 통과하면 어떤 크기가 되는지 확인)\n",
        "net = CNN().to(device)\n",
        "test_input = (torch.Tensor(128, 3, 32, 32)).to(device)\n",
        "test_out = net(test_input)"
      ],
      "execution_count": 0,
      "outputs": []
    },
    {
      "cell_type": "code",
      "metadata": {
        "id": "9H1CBaavvkFh",
        "colab_type": "code",
        "colab": {}
      },
      "source": [
        "optimizer = optim.Adam(net.parameters(), lr=0.00005)\n",
        "loss_func = nn.CrossEntropyLoss().to(device)"
      ],
      "execution_count": 0,
      "outputs": []
    },
    {
      "cell_type": "code",
      "metadata": {
        "id": "u6_spOsmxIOP",
        "colab_type": "code",
        "outputId": "843c88a5-50e7-4a9a-efce-3d13666b026b",
        "colab": {
          "base_uri": "https://localhost:8080/",
          "height": 596
        }
      },
      "source": [
        "for epoch in range(5):\n",
        "  running_loss = 0.0\n",
        "  for i, data in enumerate(train_loader):\n",
        "    # [imgs, labels]의 목록인 data로부터 입력을 받은 후;\n",
        "    imgs, labels = data\n",
        "    \n",
        "    # 변화도(Gradient) 매개변수를 0으로 만들고\n",
        "    optimizer.zero_grad()\n",
        "\n",
        "    # 순전파 + 역전파 + 최적화를 한 후\n",
        "    out = net(imgs)\n",
        "    loss = loss_func(out, labels)\n",
        "    loss.backward()\n",
        "    optimizer.step()\n",
        "\n",
        "    # 통계를 출력합니다.\n",
        "    running_loss += loss.item()\n",
        "    if i % 2000 == 1999:    # print every 2000 mini-batches\n",
        "            print('[%d, %5d] loss: %.3f' %\n",
        "                  (epoch + 1, i + 1, running_loss / 2000))\n",
        "            running_loss = 0.0\n",
        "\n",
        "print('Learning Finished!')"
      ],
      "execution_count": 0,
      "outputs": [
        {
          "output_type": "stream",
          "text": [
            "[1,  2000] loss: 1.794\n",
            "[1,  4000] loss: 1.763\n",
            "[1,  6000] loss: 1.755\n",
            "[1,  8000] loss: 1.729\n",
            "[1, 10000] loss: 1.701\n",
            "[1, 12000] loss: 1.656\n",
            "[2,  2000] loss: 1.636\n",
            "[2,  4000] loss: 1.624\n",
            "[2,  6000] loss: 1.597\n",
            "[2,  8000] loss: 1.598\n",
            "[2, 10000] loss: 1.571\n",
            "[2, 12000] loss: 1.546\n",
            "[3,  2000] loss: 1.541\n",
            "[3,  4000] loss: 1.541\n",
            "[3,  6000] loss: 1.517\n",
            "[3,  8000] loss: 1.511\n",
            "[3, 10000] loss: 1.514\n",
            "[3, 12000] loss: 1.491\n",
            "[4,  2000] loss: 1.485\n",
            "[4,  4000] loss: 1.476\n",
            "[4,  6000] loss: 1.450\n",
            "[4,  8000] loss: 1.455\n",
            "[4, 10000] loss: 1.430\n",
            "[4, 12000] loss: 1.453\n",
            "[5,  2000] loss: 1.414\n",
            "[5,  4000] loss: 1.421\n",
            "[5,  6000] loss: 1.431\n",
            "[5,  8000] loss: 1.402\n",
            "[5, 10000] loss: 1.404\n",
            "[5, 12000] loss: 1.384\n",
            "Learning Finished!\n"
          ],
          "name": "stdout"
        }
      ]
    },
    {
      "cell_type": "code",
      "metadata": {
        "id": "nFvUEjaUQI73",
        "colab_type": "code",
        "colab": {}
      },
      "source": [
        "# 학습한 모델 저장 (불필요한 학습을 줄이기 위해 사용)\n",
        "torch.save(net.state_dict(), \"./cifar_net.pth\")"
      ],
      "execution_count": 0,
      "outputs": []
    },
    {
      "cell_type": "code",
      "metadata": {
        "id": "MO6wduNEQz7a",
        "colab_type": "code",
        "outputId": "1c3741b7-40f5-42ca-9fc7-fe246c4db261",
        "colab": {
          "base_uri": "https://localhost:8080/",
          "height": 36
        }
      },
      "source": [
        "new_net = CNN().to(device)\n",
        "new_net.load_state_dict(torch.load('./cifar_net.pth'))"
      ],
      "execution_count": 0,
      "outputs": [
        {
          "output_type": "execute_result",
          "data": {
            "text/plain": [
              "<All keys matched successfully>"
            ]
          },
          "metadata": {
            "tags": []
          },
          "execution_count": 228
        }
      ]
    },
    {
      "cell_type": "markdown",
      "metadata": {
        "id": "0Uw-QLSRN5Ko",
        "colab_type": "text"
      },
      "source": [
        "## Test data로 신경망 검사하기\n",
        "\n",
        "지금까지 train data로 3회 반복하며 신경망을 학습시켰다. 신경망이 예측한 출력과 진짜 정답(Ground-truth)을 비교하는 방식으로 확인한다. 만약 예측이 맞다면 샘플을 ‘맞은 예측값(correct predictions)’ 목록에 넣는다.\n",
        "\n",
        "### 시험용 데이터 확인\n"
      ]
    },
    {
      "cell_type": "code",
      "metadata": {
        "id": "XFxBFR0fyBJ5",
        "colab_type": "code",
        "outputId": "e69cfdac-aaab-4d32-a010-22c149bac93a",
        "colab": {
          "base_uri": "https://localhost:8080/",
          "height": 157
        }
      },
      "source": [
        "process(test_loader)"
      ],
      "execution_count": 0,
      "outputs": [
        {
          "output_type": "display_data",
          "data": {
            "image/png": "[encoded data removed]",
            "text/plain": [
              "<Figure size 432x288 with 1 Axes>"
            ]
          },
          "metadata": {
            "tags": [],
            "needs_background": "light"
          }
        },
        {
          "output_type": "stream",
          "text": [
            "  cat  ship  ship plane\n"
          ],
          "name": "stdout"
        }
      ]
    },
    {
      "cell_type": "markdown",
      "metadata": {
        "id": "EYg58HUEOf7P",
        "colab_type": "text"
      },
      "source": [
        "이제 이 예제들을 신경망이 어떻게 예측했는지를 본다. 출력은 10개 분류 각각에 대한 값으로 나타난다. 어떤 분류에 대해서 더 높은 값이 나타난다는 것은, 신경망이 그 이미지가 해당 분류에 더 가깝다고 생각한다는 것이다. 따라서, 가장 높은 값을 갖는 인덱스(index)를 뽑아본다."
      ]
    },
    {
      "cell_type": "code",
      "metadata": {
        "id": "JhWDg1uIL_dM",
        "colab_type": "code",
        "colab": {}
      },
      "source": [
        "outputs = new_net(images)"
      ],
      "execution_count": 0,
      "outputs": []
    },
    {
      "cell_type": "code",
      "metadata": {
        "id": "CiK4RJdhOYFC",
        "colab_type": "code",
        "outputId": "c0a51e6b-7a5f-4728-fa63-bf600e86838d",
        "colab": {
          "base_uri": "https://localhost:8080/",
          "height": 36
        }
      },
      "source": [
        "_, predicted = torch.max(outputs, 1)\n",
        "\n",
        "print('Predicted: ', ' '.join('%5s' % classes[predicted[j]]\n",
        "                              for j in range(4)))"
      ],
      "execution_count": 0,
      "outputs": [
        {
          "output_type": "stream",
          "text": [
            "Predicted:    cat   dog horse horse\n"
          ],
          "name": "stdout"
        }
      ]
    },
    {
      "cell_type": "markdown",
      "metadata": {
        "id": "UW6dRc8uO2Zw",
        "colab_type": "text"
      },
      "source": [
        "### 전체 데이터셋 확인"
      ]
    },
    {
      "cell_type": "code",
      "metadata": {
        "id": "JqJtpAScO5e7",
        "colab_type": "code",
        "outputId": "cd030ee2-43f6-4ab1-b22e-c52d52f55d0c",
        "colab": {
          "base_uri": "https://localhost:8080/",
          "height": 36
        }
      },
      "source": [
        "correct = 0\n",
        "total = 0\n",
        "with torch.no_grad():\n",
        "    for data in testloader:\n",
        "        images, labels = data\n",
        "        outputs = net(images)\n",
        "        _, predicted = torch.max(outputs.data, 1)\n",
        "        total += labels.size(0)\n",
        "        correct += (predicted == labels).sum().item()\n",
        "\n",
        "print('Accuracy of the network on the 10000 test images: %d %%' % (\n",
        "    100 * correct / total))"
      ],
      "execution_count": 0,
      "outputs": [
        {
          "output_type": "stream",
          "text": [
            "Accuracy of the network on the 10000 test images: 48 %\n"
          ],
          "name": "stdout"
        }
      ]
    },
    {
      "cell_type": "markdown",
      "metadata": {
        "id": "uuwvLDwcPFaI",
        "colab_type": "text"
      },
      "source": [
        "(10가지 분류 중에 하나를 무작위로) 찍었을 때의 정확도인 10% 보다는 나아보인다. 신경망이 뭔가 배우긴 했다는 것이다.\n",
        "\n",
        "여기서 더 나아가 어떤 것들을 더 잘 분류하고, 어떤 것들을 더 못했는지 알아본다."
      ]
    },
    {
      "cell_type": "code",
      "metadata": {
        "id": "6HR25c_qPObi",
        "colab_type": "code",
        "outputId": "fa5f0959-f5ca-4b4b-d454-089f51214f6d",
        "colab": {
          "base_uri": "https://localhost:8080/",
          "height": 204
        }
      },
      "source": [
        "class_correct = list(0. for i in range(10))\n",
        "class_total = list(0. for i in range(10))\n",
        "with torch.no_grad():\n",
        "    for data in testloader:\n",
        "        images, labels = data\n",
        "        outputs = net(images)\n",
        "        _, predicted = torch.max(outputs, 1)\n",
        "        c = (predicted == labels).squeeze()\n",
        "        for i in range(4):\n",
        "            label = labels[i]\n",
        "            class_correct[label] += c[i].item()\n",
        "            class_total[label] += 1\n",
        "\n",
        "\n",
        "for i in range(10):\n",
        "    print('Accuracy of %5s : %2d %%' % (\n",
        "        classes[i], 100 * class_correct[i] / class_total[i]))"
      ],
      "execution_count": 0,
      "outputs": [
        {
          "output_type": "stream",
          "text": [
            "Accuracy of plane : 68 %\n",
            "Accuracy of   car : 56 %\n",
            "Accuracy of  bird : 40 %\n",
            "Accuracy of   cat : 31 %\n",
            "Accuracy of  deer : 18 %\n",
            "Accuracy of   dog : 40 %\n",
            "Accuracy of  frog : 51 %\n",
            "Accuracy of horse : 73 %\n",
            "Accuracy of  ship : 44 %\n",
            "Accuracy of truck : 63 %\n"
          ],
          "name": "stdout"
        }
      ]
    },
    {
      "cell_type": "markdown",
      "metadata": {
        "id": "nPg76moWPVpL",
        "colab_type": "text"
      },
      "source": [
        "## **Reference**\n",
        "\n",
        "https://ndb796.tistory.com/373?category=1011147\n",
        "\n",
        "https://tutorials.pytorch.kr/beginner/blitz/cifar10_tutorial.html"
      ]
    },
    {
      "cell_type": "code",
      "metadata": {
        "id": "99oN6E1aPaWW",
        "colab_type": "code",
        "colab": {}
      },
      "source": [
        ""
      ],
      "execution_count": 0,
      "outputs": []
    }
  ]
}