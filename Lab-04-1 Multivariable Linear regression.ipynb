{
 "cells": [
  {
   "cell_type": "markdown",
   "metadata": {},
   "source": [
    "## Hypothesis Function<br>\n",
    "### Simple Linear Regression<br>\n",
    "H(x) = Wx + b<br>\n",
    "x라는 vertor와 W라는 matrix의 곱<br>\n",
    "### Multivariable Linear Regression<br>\n",
    "#### Hypothesis Function: Naive<br>\n",
    "H(x) = w1x1 + w2x2 + w3x3 + b<br>\n",
    "입력변수가 3개라면 weight도 3개"
   ]
  },
  {
   "cell_type": "markdown",
   "metadata": {},
   "source": [
    "hypothesis = x1_train * w1 + x2_train * w2 + x3_train * w3 + b"
   ]
  },
  {
   "cell_type": "code",
   "execution_count": 38,
   "metadata": {},
   "outputs": [],
   "source": [
    "# 위의 식은 단순한 hypothesis 정의\n",
    "# 하지만 x가 길이 1000의 vector라면? -> 식이 매우 길어짐"
   ]
  },
  {
   "cell_type": "markdown",
   "metadata": {},
   "source": [
    "#### Hypothesis Function: Matrix<br>\n",
    "matmul()로 한번에 계산<br>\n",
    "hypothesis = x_train.matmul(W) + b\n",
    "<!--mm or @-->"
   ]
  },
  {
   "cell_type": "markdown",
   "metadata": {},
   "source": [
    "## Full Code with torch.optim (1)"
   ]
  },
  {
   "cell_type": "code",
   "execution_count": 45,
   "metadata": {},
   "outputs": [],
   "source": [
    "import torch\n",
    "# x_train : 학생들의 퀴즈1,2,3 점수\n",
    "# y_train : 학생들의 기말고사 점수 \n",
    "x_train = torch.FloatTensor([[73, 80, 75],\n",
    "                             [93, 88, 93],\n",
    "                             [89, 91, 90],\n",
    "                             [96, 98, 100],\n",
    "                             [73, 66, 70]])\n",
    "\n",
    "y_train = torch.FloatTensor([[152], [185], [180], [196], [142]])\n",
    "\n",
    "# 모델 초기화\n",
    "W = torch.zeros((3, 1), requires_grad = True)\n",
    "b = torch.zeros(1, requires_grad = True)\n",
    "\n",
    "# optimizer 설정\n",
    "optimizer = torch.optim.SGD([W, b], lr=1e-5)"
   ]
  },
  {
   "cell_type": "code",
   "execution_count": 46,
   "metadata": {},
   "outputs": [
    {
     "name": "stdout",
     "output_type": "stream",
     "text": [
      "Epoch    0/20 hypothesis: tensor([0., 0., 0., 0., 0.]) Cost: 29661.800781\n",
      "Epoch    1/20 hypothesis: tensor([67.2578, 80.8397, 79.6523, 86.7394, 61.6605]) Cost: 9298.520508\n",
      "Epoch    2/20 hypothesis: tensor([104.9128, 126.0990, 124.2466, 135.3015,  96.1821]) Cost: 2915.712646\n",
      "Epoch    3/20 hypothesis: tensor([125.9942, 151.4381, 149.2133, 162.4896, 115.5097]) Cost: 915.040527\n",
      "Epoch    4/20 hypothesis: tensor([137.7968, 165.6247, 163.1911, 177.7112, 126.3307]) Cost: 287.936005\n",
      "Epoch    5/20 hypothesis: tensor([144.4044, 173.5674, 171.0168, 186.2332, 132.3891]) Cost: 91.371017\n",
      "Epoch    6/20 hypothesis: tensor([148.1035, 178.0144, 175.3980, 191.0042, 135.7812]) Cost: 29.758139\n",
      "Epoch    7/20 hypothesis: tensor([150.1744, 180.5042, 177.8508, 193.6753, 137.6805]) Cost: 10.445305\n",
      "Epoch    8/20 hypothesis: tensor([151.3336, 181.8983, 179.2240, 195.1707, 138.7440]) Cost: 4.391228\n",
      "Epoch    9/20 hypothesis: tensor([151.9824, 182.6789, 179.9928, 196.0079, 139.3396]) Cost: 2.493135\n",
      "Epoch   10/20 hypothesis: tensor([152.3454, 183.1161, 180.4231, 196.4765, 139.6732]) Cost: 1.897688\n",
      "Epoch   11/20 hypothesis: tensor([152.5485, 183.3610, 180.6640, 196.7389, 139.8602]) Cost: 1.710541\n",
      "Epoch   12/20 hypothesis: tensor([152.6620, 183.4982, 180.7988, 196.8857, 139.9651]) Cost: 1.651413\n",
      "Epoch   13/20 hypothesis: tensor([152.7253, 183.5752, 180.8742, 196.9678, 140.0240]) Cost: 1.632387\n",
      "Epoch   14/20 hypothesis: tensor([152.7606, 183.6184, 180.9164, 197.0138, 140.0571]) Cost: 1.625923\n",
      "Epoch   15/20 hypothesis: tensor([152.7802, 183.6427, 180.9399, 197.0395, 140.0759]) Cost: 1.623412\n",
      "Epoch   16/20 hypothesis: tensor([152.7909, 183.6565, 180.9530, 197.0538, 140.0865]) Cost: 1.622141\n",
      "Epoch   17/20 hypothesis: tensor([152.7968, 183.6643, 180.9603, 197.0618, 140.0927]) Cost: 1.621253\n",
      "Epoch   18/20 hypothesis: tensor([152.7999, 183.6688, 180.9644, 197.0662, 140.0963]) Cost: 1.620500\n",
      "Epoch   19/20 hypothesis: tensor([152.8014, 183.6715, 180.9666, 197.0686, 140.0985]) Cost: 1.619770\n",
      "Epoch   20/20 hypothesis: tensor([152.8020, 183.6731, 180.9677, 197.0699, 140.1000]) Cost: 1.619033\n"
     ]
    }
   ],
   "source": [
    "nb_epochs = 20\n",
    "for epoch in range(nb_epochs + 1):\n",
    "    hypothesis = x_train.matmul(W) + b # 5 x 3 과 3 x 1의 곱 -> 5 x 1\n",
    "    cost = torch.mean((hypothesis - y_train)**2)\n",
    "    \n",
    "    optimizer.zero_grad()\n",
    "    cost.backward()\n",
    "    optimizer.step()\n",
    "    \n",
    "    print('Epoch {:4d}/{} hypothesis: {} Cost: {:.6f}'.format(\n",
    "        epoch, nb_epochs, hypothesis.squeeze().detach(), \n",
    "        cost.item()\n",
    "    ))"
   ]
  },
  {
   "cell_type": "markdown",
   "metadata": {},
   "source": [
    "### nn.Module<br>\n",
    "W와 b를 일일이 초기화 해주는 것은 모델이 커질수록 귀찮은 일이 될수 있다.<br>\n",
    "1. nn.Linear()에 입력차원과 출력차원을 입력해준다.<br>\n",
    "2. Hypothesis 계산은 forward()에서 처리한다."
   ]
  },
  {
   "cell_type": "markdown",
   "metadata": {},
   "source": [
    "### F.mse_loss<br>\n",
    "torch.nn.functional에서 제공하는 loss function을 사용한다."
   ]
  },
  {
   "cell_type": "markdown",
   "metadata": {},
   "source": [
    "## Full Code with torch.optim (2)"
   ]
  },
  {
   "cell_type": "code",
   "execution_count": 49,
   "metadata": {},
   "outputs": [],
   "source": [
    "import torch\n",
    "import torch.nn as nn\n",
    "import torch.nn.functional as F\n",
    "\n",
    "class MultivariateLinearRegressionModel(nn.Module):\n",
    "    def __init__(self):\n",
    "        super().__init__()\n",
    "        self.linear = nn.Linear(3, 1)\n",
    "        \n",
    "    def forward(self, x):\n",
    "        return self.linear(x)\n",
    "    \n",
    "    \n",
    "# x_train : 학생들의 퀴즈1,2,3 점수\n",
    "# y_train : 학생들의 기말고사 점수 \n",
    "x_train = torch.FloatTensor([[73, 80, 75],\n",
    "                             [93, 88, 93],\n",
    "                             [89, 91, 90],\n",
    "                             [96, 98, 100],\n",
    "                             [73, 66, 70]])\n",
    "\n",
    "y_train = torch.FloatTensor([[152], [185], [180], [196], [142]])\n",
    "\n",
    "# 모델 초기화\n",
    "model = MultivariateLinearRegressionModel()\n",
    "\n",
    "# optimizer 설정\n",
    "optimizer = torch.optim.SGD(model.parameters(), lr=1e-5)"
   ]
  },
  {
   "cell_type": "code",
   "execution_count": 50,
   "metadata": {},
   "outputs": [
    {
     "name": "stdout",
     "output_type": "stream",
     "text": [
      "Epoch    0/20 hypothesis: tensor([14.9085, 25.6099, 21.2488, 23.7558, 20.8729]) Cost: 22748.216797\n",
      "Epoch    1/20 hypothesis: tensor([73.8074, 96.4009, 91.0009, 99.7140, 74.8683]) Cost: 7132.474121\n",
      "Epoch    2/20 hypothesis: tensor([106.7831, 136.0339, 130.0527, 142.2403, 105.0982]) Cost: 2237.765869\n",
      "Epoch    3/20 hypothesis: tensor([125.2452, 158.2228, 151.9164, 166.0493, 122.0225]) Cost: 703.533813\n",
      "Epoch    4/20 hypothesis: tensor([135.5818, 170.6454, 164.1572, 179.3791, 131.4975]) Cost: 222.632568\n",
      "Epoch    5/20 hypothesis: tensor([141.3691, 177.6001, 171.0105, 186.8420, 136.8020]) Cost: 71.894333\n",
      "Epoch    6/20 hypothesis: tensor([144.6095, 181.4936, 174.8475, 191.0203, 139.7716]) Cost: 24.645065\n",
      "Epoch    7/20 hypothesis: tensor([146.4240, 183.6733, 176.9957, 193.3596, 141.4339]) Cost: 9.833952\n",
      "Epoch    8/20 hypothesis: tensor([147.4401, 184.8934, 178.1985, 194.6694, 142.3643]) Cost: 5.190468\n",
      "Epoch    9/20 hypothesis: tensor([148.0093, 185.5763, 178.8721, 195.4027, 142.8849]) Cost: 3.733967\n",
      "Epoch   10/20 hypothesis: tensor([148.3282, 185.9584, 179.2492, 195.8134, 143.1762]) Cost: 3.276457\n",
      "Epoch   11/20 hypothesis: tensor([148.5071, 186.1722, 179.4605, 196.0433, 143.3390]) Cost: 3.132051\n",
      "Epoch   12/20 hypothesis: tensor([148.6075, 186.2917, 179.5788, 196.1721, 143.4299]) Cost: 3.085807\n",
      "Epoch   13/20 hypothesis: tensor([148.6640, 186.3584, 179.6452, 196.2442, 143.4806]) Cost: 3.070328\n",
      "Epoch   14/20 hypothesis: tensor([148.6959, 186.3955, 179.6824, 196.2847, 143.5087]) Cost: 3.064468\n",
      "Epoch   15/20 hypothesis: tensor([148.7141, 186.4161, 179.7034, 196.3074, 143.5242]) Cost: 3.061669\n",
      "Epoch   16/20 hypothesis: tensor([148.7245, 186.4274, 179.7152, 196.3201, 143.5326]) Cost: 3.059777\n",
      "Epoch   17/20 hypothesis: tensor([148.7307, 186.4336, 179.7218, 196.3273, 143.5371]) Cost: 3.058201\n",
      "Epoch   18/20 hypothesis: tensor([148.7344, 186.4369, 179.7257, 196.3314, 143.5394]) Cost: 3.056733\n",
      "Epoch   19/20 hypothesis: tensor([148.7367, 186.4385, 179.7279, 196.3338, 143.5404]) Cost: 3.055282\n",
      "Epoch   20/20 hypothesis: tensor([148.7383, 186.4392, 179.7293, 196.3351, 143.5407]) Cost: 3.053836\n"
     ]
    }
   ],
   "source": [
    "nb_epochs = 20\n",
    "for epoch in range(nb_epochs + 1):\n",
    "    hypothesis = model(x_train)\n",
    "    cost = F.mse_loss(hypothesis, y_train)\n",
    "    \n",
    "    optimizer.zero_grad()\n",
    "    cost.backward()\n",
    "    optimizer.step()\n",
    "    \n",
    "    print('Epoch {:4d}/{} hypothesis: {} Cost: {:.6f}'.format(\n",
    "        epoch, nb_epochs, hypothesis.squeeze().detach(), \n",
    "        cost.item()\n",
    "    ))"
   ]
  },
  {
   "cell_type": "code",
   "execution_count": null,
   "metadata": {},
   "outputs": [],
   "source": []
  },
  {
   "cell_type": "code",
   "execution_count": null,
   "metadata": {},
   "outputs": [],
   "source": []
  }
 ],
 "metadata": {
  "kernelspec": {
   "display_name": "Python 3",
   "language": "python",
   "name": "python3"
  },
  "language_info": {
   "codemirror_mode": {
    "name": "ipython",
    "version": 3
   },
   "file_extension": ".py",
   "mimetype": "text/x-python",
   "name": "python",
   "nbconvert_exporter": "python",
   "pygments_lexer": "ipython3",
   "version": "3.7.6"
  }
 },
 "nbformat": 4,
 "nbformat_minor": 4
}
